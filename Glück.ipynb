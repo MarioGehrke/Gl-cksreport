{
 "cells": [
  {
   "cell_type": "markdown",
   "source": [
    "## Untersuchung des Glückes mit Verteilungsinhalt der Länder!"
   ],
   "metadata": {
    "collapsed": false
   }
  },
  {
   "cell_type": "code",
   "execution_count": 77,
   "outputs": [],
   "source": [
    "import pandas as pd\n",
    "import seaborn as sns\n",
    "import matplotlib.pyplot as plt\n",
    "import pycountry_convert as pc\n",
    "import plotly.express as px\n",
    "import plotly.io as pio\n",
    "import kaleido"
   ],
   "metadata": {
    "collapsed": false
   }
  },
  {
   "cell_type": "code",
   "execution_count": 2,
   "outputs": [
    {
     "data": {
      "text/plain": "     Overall rank         Country or region  Score  GDP per capita   \n0               1                   Finland  7.632           1.305  \\\n1               2                    Norway  7.594           1.456   \n2               3                   Denmark  7.555           1.351   \n3               4                   Iceland  7.495           1.343   \n4               5               Switzerland  7.487           1.420   \n..            ...                       ...    ...             ...   \n151           152                     Yemen  3.355           0.442   \n152           153                  Tanzania  3.303           0.455   \n153           154               South Sudan  3.254           0.337   \n154           155  Central African Republic  3.083           0.024   \n155           156                   Burundi  2.905           0.091   \n\n     Social support  Healthy life expectancy  Freedom to make life choices   \n0             1.592                    0.874                         0.681  \\\n1             1.582                    0.861                         0.686   \n2             1.590                    0.868                         0.683   \n3             1.644                    0.914                         0.677   \n4             1.549                    0.927                         0.660   \n..              ...                      ...                           ...   \n151           1.073                    0.343                         0.244   \n152           0.991                    0.381                         0.481   \n153           0.608                    0.177                         0.112   \n154           0.000                    0.010                         0.305   \n155           0.627                    0.145                         0.065   \n\n     Generosity  Perceptions of corruption  \n0         0.202                      0.393  \n1         0.286                      0.340  \n2         0.284                      0.408  \n3         0.353                      0.138  \n4         0.256                      0.357  \n..          ...                        ...  \n151       0.083                      0.064  \n152       0.270                      0.097  \n153       0.224                      0.106  \n154       0.218                      0.038  \n155       0.149                      0.076  \n\n[156 rows x 9 columns]",
      "text/html": "<div>\n<style scoped>\n    .dataframe tbody tr th:only-of-type {\n        vertical-align: middle;\n    }\n\n    .dataframe tbody tr th {\n        vertical-align: top;\n    }\n\n    .dataframe thead th {\n        text-align: right;\n    }\n</style>\n<table border=\"1\" class=\"dataframe\">\n  <thead>\n    <tr style=\"text-align: right;\">\n      <th></th>\n      <th>Overall rank</th>\n      <th>Country or region</th>\n      <th>Score</th>\n      <th>GDP per capita</th>\n      <th>Social support</th>\n      <th>Healthy life expectancy</th>\n      <th>Freedom to make life choices</th>\n      <th>Generosity</th>\n      <th>Perceptions of corruption</th>\n    </tr>\n  </thead>\n  <tbody>\n    <tr>\n      <th>0</th>\n      <td>1</td>\n      <td>Finland</td>\n      <td>7.632</td>\n      <td>1.305</td>\n      <td>1.592</td>\n      <td>0.874</td>\n      <td>0.681</td>\n      <td>0.202</td>\n      <td>0.393</td>\n    </tr>\n    <tr>\n      <th>1</th>\n      <td>2</td>\n      <td>Norway</td>\n      <td>7.594</td>\n      <td>1.456</td>\n      <td>1.582</td>\n      <td>0.861</td>\n      <td>0.686</td>\n      <td>0.286</td>\n      <td>0.340</td>\n    </tr>\n    <tr>\n      <th>2</th>\n      <td>3</td>\n      <td>Denmark</td>\n      <td>7.555</td>\n      <td>1.351</td>\n      <td>1.590</td>\n      <td>0.868</td>\n      <td>0.683</td>\n      <td>0.284</td>\n      <td>0.408</td>\n    </tr>\n    <tr>\n      <th>3</th>\n      <td>4</td>\n      <td>Iceland</td>\n      <td>7.495</td>\n      <td>1.343</td>\n      <td>1.644</td>\n      <td>0.914</td>\n      <td>0.677</td>\n      <td>0.353</td>\n      <td>0.138</td>\n    </tr>\n    <tr>\n      <th>4</th>\n      <td>5</td>\n      <td>Switzerland</td>\n      <td>7.487</td>\n      <td>1.420</td>\n      <td>1.549</td>\n      <td>0.927</td>\n      <td>0.660</td>\n      <td>0.256</td>\n      <td>0.357</td>\n    </tr>\n    <tr>\n      <th>...</th>\n      <td>...</td>\n      <td>...</td>\n      <td>...</td>\n      <td>...</td>\n      <td>...</td>\n      <td>...</td>\n      <td>...</td>\n      <td>...</td>\n      <td>...</td>\n    </tr>\n    <tr>\n      <th>151</th>\n      <td>152</td>\n      <td>Yemen</td>\n      <td>3.355</td>\n      <td>0.442</td>\n      <td>1.073</td>\n      <td>0.343</td>\n      <td>0.244</td>\n      <td>0.083</td>\n      <td>0.064</td>\n    </tr>\n    <tr>\n      <th>152</th>\n      <td>153</td>\n      <td>Tanzania</td>\n      <td>3.303</td>\n      <td>0.455</td>\n      <td>0.991</td>\n      <td>0.381</td>\n      <td>0.481</td>\n      <td>0.270</td>\n      <td>0.097</td>\n    </tr>\n    <tr>\n      <th>153</th>\n      <td>154</td>\n      <td>South Sudan</td>\n      <td>3.254</td>\n      <td>0.337</td>\n      <td>0.608</td>\n      <td>0.177</td>\n      <td>0.112</td>\n      <td>0.224</td>\n      <td>0.106</td>\n    </tr>\n    <tr>\n      <th>154</th>\n      <td>155</td>\n      <td>Central African Republic</td>\n      <td>3.083</td>\n      <td>0.024</td>\n      <td>0.000</td>\n      <td>0.010</td>\n      <td>0.305</td>\n      <td>0.218</td>\n      <td>0.038</td>\n    </tr>\n    <tr>\n      <th>155</th>\n      <td>156</td>\n      <td>Burundi</td>\n      <td>2.905</td>\n      <td>0.091</td>\n      <td>0.627</td>\n      <td>0.145</td>\n      <td>0.065</td>\n      <td>0.149</td>\n      <td>0.076</td>\n    </tr>\n  </tbody>\n</table>\n<p>156 rows × 9 columns</p>\n</div>"
     },
     "execution_count": 2,
     "metadata": {},
     "output_type": "execute_result"
    }
   ],
   "source": [
    "data1 = pd.read_csv(\"20230510_3.3_Datensatz_Glueck_2018.csv\")\n",
    "data1"
   ],
   "metadata": {
    "collapsed": false
   }
  },
  {
   "cell_type": "code",
   "execution_count": 3,
   "outputs": [
    {
     "data": {
      "text/plain": "     Overall rank         Country or region  Score  GDP per capita   \n0               1                   Finland  7.769           1.340  \\\n1               2                   Denmark  7.600           1.383   \n2               3                    Norway  7.554           1.488   \n3               4                   Iceland  7.494           1.380   \n4               5               Netherlands  7.488           1.396   \n..            ...                       ...    ...             ...   \n151           152                    Rwanda  3.334           0.359   \n152           153                  Tanzania  3.231           0.476   \n153           154               Afghanistan  3.203           0.350   \n154           155  Central African Republic  3.083           0.026   \n155           156               South Sudan  2.853           0.306   \n\n     Social support  Healthy life expectancy  Freedom to make life choices   \n0             1.587                    0.986                         0.596  \\\n1             1.573                    0.996                         0.592   \n2             1.582                    1.028                         0.603   \n3             1.624                    1.026                         0.591   \n4             1.522                    0.999                         0.557   \n..              ...                      ...                           ...   \n151           0.711                    0.614                         0.555   \n152           0.885                    0.499                         0.417   \n153           0.517                    0.361                         0.000   \n154           0.000                    0.105                         0.225   \n155           0.575                    0.295                         0.010   \n\n     Generosity  Perceptions of corruption  \n0         0.153                      0.393  \n1         0.252                      0.410  \n2         0.271                      0.341  \n3         0.354                      0.118  \n4         0.322                      0.298  \n..          ...                        ...  \n151       0.217                      0.411  \n152       0.276                      0.147  \n153       0.158                      0.025  \n154       0.235                      0.035  \n155       0.202                      0.091  \n\n[156 rows x 9 columns]",
      "text/html": "<div>\n<style scoped>\n    .dataframe tbody tr th:only-of-type {\n        vertical-align: middle;\n    }\n\n    .dataframe tbody tr th {\n        vertical-align: top;\n    }\n\n    .dataframe thead th {\n        text-align: right;\n    }\n</style>\n<table border=\"1\" class=\"dataframe\">\n  <thead>\n    <tr style=\"text-align: right;\">\n      <th></th>\n      <th>Overall rank</th>\n      <th>Country or region</th>\n      <th>Score</th>\n      <th>GDP per capita</th>\n      <th>Social support</th>\n      <th>Healthy life expectancy</th>\n      <th>Freedom to make life choices</th>\n      <th>Generosity</th>\n      <th>Perceptions of corruption</th>\n    </tr>\n  </thead>\n  <tbody>\n    <tr>\n      <th>0</th>\n      <td>1</td>\n      <td>Finland</td>\n      <td>7.769</td>\n      <td>1.340</td>\n      <td>1.587</td>\n      <td>0.986</td>\n      <td>0.596</td>\n      <td>0.153</td>\n      <td>0.393</td>\n    </tr>\n    <tr>\n      <th>1</th>\n      <td>2</td>\n      <td>Denmark</td>\n      <td>7.600</td>\n      <td>1.383</td>\n      <td>1.573</td>\n      <td>0.996</td>\n      <td>0.592</td>\n      <td>0.252</td>\n      <td>0.410</td>\n    </tr>\n    <tr>\n      <th>2</th>\n      <td>3</td>\n      <td>Norway</td>\n      <td>7.554</td>\n      <td>1.488</td>\n      <td>1.582</td>\n      <td>1.028</td>\n      <td>0.603</td>\n      <td>0.271</td>\n      <td>0.341</td>\n    </tr>\n    <tr>\n      <th>3</th>\n      <td>4</td>\n      <td>Iceland</td>\n      <td>7.494</td>\n      <td>1.380</td>\n      <td>1.624</td>\n      <td>1.026</td>\n      <td>0.591</td>\n      <td>0.354</td>\n      <td>0.118</td>\n    </tr>\n    <tr>\n      <th>4</th>\n      <td>5</td>\n      <td>Netherlands</td>\n      <td>7.488</td>\n      <td>1.396</td>\n      <td>1.522</td>\n      <td>0.999</td>\n      <td>0.557</td>\n      <td>0.322</td>\n      <td>0.298</td>\n    </tr>\n    <tr>\n      <th>...</th>\n      <td>...</td>\n      <td>...</td>\n      <td>...</td>\n      <td>...</td>\n      <td>...</td>\n      <td>...</td>\n      <td>...</td>\n      <td>...</td>\n      <td>...</td>\n    </tr>\n    <tr>\n      <th>151</th>\n      <td>152</td>\n      <td>Rwanda</td>\n      <td>3.334</td>\n      <td>0.359</td>\n      <td>0.711</td>\n      <td>0.614</td>\n      <td>0.555</td>\n      <td>0.217</td>\n      <td>0.411</td>\n    </tr>\n    <tr>\n      <th>152</th>\n      <td>153</td>\n      <td>Tanzania</td>\n      <td>3.231</td>\n      <td>0.476</td>\n      <td>0.885</td>\n      <td>0.499</td>\n      <td>0.417</td>\n      <td>0.276</td>\n      <td>0.147</td>\n    </tr>\n    <tr>\n      <th>153</th>\n      <td>154</td>\n      <td>Afghanistan</td>\n      <td>3.203</td>\n      <td>0.350</td>\n      <td>0.517</td>\n      <td>0.361</td>\n      <td>0.000</td>\n      <td>0.158</td>\n      <td>0.025</td>\n    </tr>\n    <tr>\n      <th>154</th>\n      <td>155</td>\n      <td>Central African Republic</td>\n      <td>3.083</td>\n      <td>0.026</td>\n      <td>0.000</td>\n      <td>0.105</td>\n      <td>0.225</td>\n      <td>0.235</td>\n      <td>0.035</td>\n    </tr>\n    <tr>\n      <th>155</th>\n      <td>156</td>\n      <td>South Sudan</td>\n      <td>2.853</td>\n      <td>0.306</td>\n      <td>0.575</td>\n      <td>0.295</td>\n      <td>0.010</td>\n      <td>0.202</td>\n      <td>0.091</td>\n    </tr>\n  </tbody>\n</table>\n<p>156 rows × 9 columns</p>\n</div>"
     },
     "execution_count": 3,
     "metadata": {},
     "output_type": "execute_result"
    }
   ],
   "source": [
    "data2 = pd.read_csv(\"20230510_3.3_Datensatz_Glueck_2019.csv\")\n",
    "data2"
   ],
   "metadata": {
    "collapsed": false
   }
  },
  {
   "cell_type": "code",
   "execution_count": 4,
   "outputs": [
    {
     "data": {
      "text/plain": "     Overall rank Country or region  Year  Score  GDP per capita   \n0             154       Afghanistan  2019  3.203           0.350  \\\n1             145       Afghanistan  2018  3.632           0.332   \n2             107           Albania  2019  4.719           0.947   \n3             112           Albania  2018  4.586           0.916   \n4              88           Algeria  2019  5.211           1.002   \n..            ...               ...   ...    ...             ...   \n307           152             Yemen  2018  3.355           0.442   \n308           138            Zambia  2019  4.107           0.578   \n309           125            Zambia  2018  4.377           0.562   \n310           146          Zimbabwe  2019  3.663           0.366   \n311           144          Zimbabwe  2018  3.692           0.357   \n\n     Social support  Healthy life expectancy  Freedom to make life choices   \n0             0.517                    0.361                         0.000  \\\n1             0.537                    0.255                         0.085   \n2             0.848                    0.874                         0.383   \n3             0.817                    0.790                         0.419   \n4             1.160                    0.785                         0.086   \n..              ...                      ...                           ...   \n307           1.073                    0.343                         0.244   \n308           1.058                    0.426                         0.431   \n309           1.047                    0.295                         0.503   \n310           1.114                    0.433                         0.361   \n311           1.094                    0.248                         0.406   \n\n     Generosity  Perceptions of corruption  \n0         0.158                      0.025  \n1         0.191                      0.036  \n2         0.178                      0.027  \n3         0.149                      0.032  \n4         0.073                      0.114  \n..          ...                        ...  \n307       0.083                      0.064  \n308       0.247                      0.087  \n309       0.221                      0.082  \n310       0.151                      0.089  \n311       0.132                      0.099  \n\n[312 rows x 10 columns]",
      "text/html": "<div>\n<style scoped>\n    .dataframe tbody tr th:only-of-type {\n        vertical-align: middle;\n    }\n\n    .dataframe tbody tr th {\n        vertical-align: top;\n    }\n\n    .dataframe thead th {\n        text-align: right;\n    }\n</style>\n<table border=\"1\" class=\"dataframe\">\n  <thead>\n    <tr style=\"text-align: right;\">\n      <th></th>\n      <th>Overall rank</th>\n      <th>Country or region</th>\n      <th>Year</th>\n      <th>Score</th>\n      <th>GDP per capita</th>\n      <th>Social support</th>\n      <th>Healthy life expectancy</th>\n      <th>Freedom to make life choices</th>\n      <th>Generosity</th>\n      <th>Perceptions of corruption</th>\n    </tr>\n  </thead>\n  <tbody>\n    <tr>\n      <th>0</th>\n      <td>154</td>\n      <td>Afghanistan</td>\n      <td>2019</td>\n      <td>3.203</td>\n      <td>0.350</td>\n      <td>0.517</td>\n      <td>0.361</td>\n      <td>0.000</td>\n      <td>0.158</td>\n      <td>0.025</td>\n    </tr>\n    <tr>\n      <th>1</th>\n      <td>145</td>\n      <td>Afghanistan</td>\n      <td>2018</td>\n      <td>3.632</td>\n      <td>0.332</td>\n      <td>0.537</td>\n      <td>0.255</td>\n      <td>0.085</td>\n      <td>0.191</td>\n      <td>0.036</td>\n    </tr>\n    <tr>\n      <th>2</th>\n      <td>107</td>\n      <td>Albania</td>\n      <td>2019</td>\n      <td>4.719</td>\n      <td>0.947</td>\n      <td>0.848</td>\n      <td>0.874</td>\n      <td>0.383</td>\n      <td>0.178</td>\n      <td>0.027</td>\n    </tr>\n    <tr>\n      <th>3</th>\n      <td>112</td>\n      <td>Albania</td>\n      <td>2018</td>\n      <td>4.586</td>\n      <td>0.916</td>\n      <td>0.817</td>\n      <td>0.790</td>\n      <td>0.419</td>\n      <td>0.149</td>\n      <td>0.032</td>\n    </tr>\n    <tr>\n      <th>4</th>\n      <td>88</td>\n      <td>Algeria</td>\n      <td>2019</td>\n      <td>5.211</td>\n      <td>1.002</td>\n      <td>1.160</td>\n      <td>0.785</td>\n      <td>0.086</td>\n      <td>0.073</td>\n      <td>0.114</td>\n    </tr>\n    <tr>\n      <th>...</th>\n      <td>...</td>\n      <td>...</td>\n      <td>...</td>\n      <td>...</td>\n      <td>...</td>\n      <td>...</td>\n      <td>...</td>\n      <td>...</td>\n      <td>...</td>\n      <td>...</td>\n    </tr>\n    <tr>\n      <th>307</th>\n      <td>152</td>\n      <td>Yemen</td>\n      <td>2018</td>\n      <td>3.355</td>\n      <td>0.442</td>\n      <td>1.073</td>\n      <td>0.343</td>\n      <td>0.244</td>\n      <td>0.083</td>\n      <td>0.064</td>\n    </tr>\n    <tr>\n      <th>308</th>\n      <td>138</td>\n      <td>Zambia</td>\n      <td>2019</td>\n      <td>4.107</td>\n      <td>0.578</td>\n      <td>1.058</td>\n      <td>0.426</td>\n      <td>0.431</td>\n      <td>0.247</td>\n      <td>0.087</td>\n    </tr>\n    <tr>\n      <th>309</th>\n      <td>125</td>\n      <td>Zambia</td>\n      <td>2018</td>\n      <td>4.377</td>\n      <td>0.562</td>\n      <td>1.047</td>\n      <td>0.295</td>\n      <td>0.503</td>\n      <td>0.221</td>\n      <td>0.082</td>\n    </tr>\n    <tr>\n      <th>310</th>\n      <td>146</td>\n      <td>Zimbabwe</td>\n      <td>2019</td>\n      <td>3.663</td>\n      <td>0.366</td>\n      <td>1.114</td>\n      <td>0.433</td>\n      <td>0.361</td>\n      <td>0.151</td>\n      <td>0.089</td>\n    </tr>\n    <tr>\n      <th>311</th>\n      <td>144</td>\n      <td>Zimbabwe</td>\n      <td>2018</td>\n      <td>3.692</td>\n      <td>0.357</td>\n      <td>1.094</td>\n      <td>0.248</td>\n      <td>0.406</td>\n      <td>0.132</td>\n      <td>0.099</td>\n    </tr>\n  </tbody>\n</table>\n<p>312 rows × 10 columns</p>\n</div>"
     },
     "execution_count": 4,
     "metadata": {},
     "output_type": "execute_result"
    }
   ],
   "source": [
    "data3 = pd.read_csv(\"20230510_3.3_Datensatz_Glueck_2018-2019.csv\")\n",
    "data3"
   ],
   "metadata": {
    "collapsed": false
   }
  },
  {
   "cell_type": "code",
   "execution_count": 30,
   "outputs": [
    {
     "data": {
      "text/plain": "Country or region\nFinland        7.7005\nDenmark        7.5775\nNorway         7.5740\nIceland        7.4945\nSwitzerland    7.4835\nNetherlands    7.4645\nSweden         7.3285\nNew Zealand    7.3155\nCanada         7.3030\nAustralia      7.2500\nName: Score, dtype: float64"
     },
     "execution_count": 30,
     "metadata": {},
     "output_type": "execute_result"
    }
   ],
   "source": [
    "df2 = pd.read_csv(\"20230510_3.3_Datensatz_Glueck_2018-2019.csv\")\n",
    "df2.groupby(\"Country or region\").mean()[\"Score\"].sort_values(ascending=False)[0:10]"
   ],
   "metadata": {
    "collapsed": false
   }
  },
  {
   "cell_type": "code",
   "execution_count": 31,
   "outputs": [
    {
     "data": {
      "text/plain": "    Country or region  Score\n0         Afghanistan  3.203\n1         Afghanistan  3.632\n2             Albania  4.719\n3             Albania  4.586\n4             Algeria  5.211\n..                ...    ...\n307             Yemen  3.355\n308            Zambia  4.107\n309            Zambia  4.377\n310          Zimbabwe  3.663\n311          Zimbabwe  3.692\n\n[312 rows x 2 columns]",
      "text/html": "<div>\n<style scoped>\n    .dataframe tbody tr th:only-of-type {\n        vertical-align: middle;\n    }\n\n    .dataframe tbody tr th {\n        vertical-align: top;\n    }\n\n    .dataframe thead th {\n        text-align: right;\n    }\n</style>\n<table border=\"1\" class=\"dataframe\">\n  <thead>\n    <tr style=\"text-align: right;\">\n      <th></th>\n      <th>Country or region</th>\n      <th>Score</th>\n    </tr>\n  </thead>\n  <tbody>\n    <tr>\n      <th>0</th>\n      <td>Afghanistan</td>\n      <td>3.203</td>\n    </tr>\n    <tr>\n      <th>1</th>\n      <td>Afghanistan</td>\n      <td>3.632</td>\n    </tr>\n    <tr>\n      <th>2</th>\n      <td>Albania</td>\n      <td>4.719</td>\n    </tr>\n    <tr>\n      <th>3</th>\n      <td>Albania</td>\n      <td>4.586</td>\n    </tr>\n    <tr>\n      <th>4</th>\n      <td>Algeria</td>\n      <td>5.211</td>\n    </tr>\n    <tr>\n      <th>...</th>\n      <td>...</td>\n      <td>...</td>\n    </tr>\n    <tr>\n      <th>307</th>\n      <td>Yemen</td>\n      <td>3.355</td>\n    </tr>\n    <tr>\n      <th>308</th>\n      <td>Zambia</td>\n      <td>4.107</td>\n    </tr>\n    <tr>\n      <th>309</th>\n      <td>Zambia</td>\n      <td>4.377</td>\n    </tr>\n    <tr>\n      <th>310</th>\n      <td>Zimbabwe</td>\n      <td>3.663</td>\n    </tr>\n    <tr>\n      <th>311</th>\n      <td>Zimbabwe</td>\n      <td>3.692</td>\n    </tr>\n  </tbody>\n</table>\n<p>312 rows × 2 columns</p>\n</div>"
     },
     "execution_count": 31,
     "metadata": {},
     "output_type": "execute_result"
    }
   ],
   "source": [
    "data3.filter(items=[\"Country or region\",\"Score\"])"
   ],
   "metadata": {
    "collapsed": false
   }
  },
  {
   "cell_type": "code",
   "execution_count": 32,
   "outputs": [
    {
     "data": {
      "text/plain": "Index(['Overall rank', 'Country or region', 'Year', 'Score', 'GDP per capita',\n       'Social support', 'Healthy life expectancy',\n       'Freedom to make life choices', 'Generosity',\n       'Perceptions of corruption', 'continent'],\n      dtype='object')"
     },
     "execution_count": 32,
     "metadata": {},
     "output_type": "execute_result"
    }
   ],
   "source": [
    "data3.columns"
   ],
   "metadata": {
    "collapsed": false
   }
  },
  {
   "cell_type": "code",
   "execution_count": 33,
   "outputs": [
    {
     "data": {
      "text/plain": "Overall rank                     0\nCountry or region                0\nYear                             0\nScore                            0\nGDP per capita                   0\nSocial support                   0\nHealthy life expectancy          0\nFreedom to make life choices     0\nGenerosity                       0\nPerceptions of corruption        0\ncontinent                       10\ndtype: int64"
     },
     "execution_count": 33,
     "metadata": {},
     "output_type": "execute_result"
    }
   ],
   "source": [
    "data3.isna().sum()"
   ],
   "metadata": {
    "collapsed": false
   }
  },
  {
   "cell_type": "code",
   "execution_count": 34,
   "outputs": [
    {
     "data": {
      "text/plain": "   Overall rank Country or region  Score  GDP per capita  Social support   \n0             1           Finland  7.769           1.340           1.587  \\\n1             2           Denmark  7.600           1.383           1.573   \n2             3            Norway  7.554           1.488           1.582   \n3             4           Iceland  7.494           1.380           1.624   \n4             5       Netherlands  7.488           1.396           1.522   \n5             6       Switzerland  7.480           1.452           1.526   \n6             7            Sweden  7.343           1.387           1.487   \n7             8       New Zealand  7.307           1.303           1.557   \n8             9            Canada  7.278           1.365           1.505   \n9            10           Austria  7.246           1.376           1.475   \n\n   Healthy life expectancy  Freedom to make life choices  Generosity   \n0                    0.986                         0.596       0.153  \\\n1                    0.996                         0.592       0.252   \n2                    1.028                         0.603       0.271   \n3                    1.026                         0.591       0.354   \n4                    0.999                         0.557       0.322   \n5                    1.052                         0.572       0.263   \n6                    1.009                         0.574       0.267   \n7                    1.026                         0.585       0.330   \n8                    1.039                         0.584       0.285   \n9                    1.016                         0.532       0.244   \n\n   Perceptions of corruption  \n0                      0.393  \n1                      0.410  \n2                      0.341  \n3                      0.118  \n4                      0.298  \n5                      0.343  \n6                      0.373  \n7                      0.380  \n8                      0.308  \n9                      0.226  ",
      "text/html": "<div>\n<style scoped>\n    .dataframe tbody tr th:only-of-type {\n        vertical-align: middle;\n    }\n\n    .dataframe tbody tr th {\n        vertical-align: top;\n    }\n\n    .dataframe thead th {\n        text-align: right;\n    }\n</style>\n<table border=\"1\" class=\"dataframe\">\n  <thead>\n    <tr style=\"text-align: right;\">\n      <th></th>\n      <th>Overall rank</th>\n      <th>Country or region</th>\n      <th>Score</th>\n      <th>GDP per capita</th>\n      <th>Social support</th>\n      <th>Healthy life expectancy</th>\n      <th>Freedom to make life choices</th>\n      <th>Generosity</th>\n      <th>Perceptions of corruption</th>\n    </tr>\n  </thead>\n  <tbody>\n    <tr>\n      <th>0</th>\n      <td>1</td>\n      <td>Finland</td>\n      <td>7.769</td>\n      <td>1.340</td>\n      <td>1.587</td>\n      <td>0.986</td>\n      <td>0.596</td>\n      <td>0.153</td>\n      <td>0.393</td>\n    </tr>\n    <tr>\n      <th>1</th>\n      <td>2</td>\n      <td>Denmark</td>\n      <td>7.600</td>\n      <td>1.383</td>\n      <td>1.573</td>\n      <td>0.996</td>\n      <td>0.592</td>\n      <td>0.252</td>\n      <td>0.410</td>\n    </tr>\n    <tr>\n      <th>2</th>\n      <td>3</td>\n      <td>Norway</td>\n      <td>7.554</td>\n      <td>1.488</td>\n      <td>1.582</td>\n      <td>1.028</td>\n      <td>0.603</td>\n      <td>0.271</td>\n      <td>0.341</td>\n    </tr>\n    <tr>\n      <th>3</th>\n      <td>4</td>\n      <td>Iceland</td>\n      <td>7.494</td>\n      <td>1.380</td>\n      <td>1.624</td>\n      <td>1.026</td>\n      <td>0.591</td>\n      <td>0.354</td>\n      <td>0.118</td>\n    </tr>\n    <tr>\n      <th>4</th>\n      <td>5</td>\n      <td>Netherlands</td>\n      <td>7.488</td>\n      <td>1.396</td>\n      <td>1.522</td>\n      <td>0.999</td>\n      <td>0.557</td>\n      <td>0.322</td>\n      <td>0.298</td>\n    </tr>\n    <tr>\n      <th>5</th>\n      <td>6</td>\n      <td>Switzerland</td>\n      <td>7.480</td>\n      <td>1.452</td>\n      <td>1.526</td>\n      <td>1.052</td>\n      <td>0.572</td>\n      <td>0.263</td>\n      <td>0.343</td>\n    </tr>\n    <tr>\n      <th>6</th>\n      <td>7</td>\n      <td>Sweden</td>\n      <td>7.343</td>\n      <td>1.387</td>\n      <td>1.487</td>\n      <td>1.009</td>\n      <td>0.574</td>\n      <td>0.267</td>\n      <td>0.373</td>\n    </tr>\n    <tr>\n      <th>7</th>\n      <td>8</td>\n      <td>New Zealand</td>\n      <td>7.307</td>\n      <td>1.303</td>\n      <td>1.557</td>\n      <td>1.026</td>\n      <td>0.585</td>\n      <td>0.330</td>\n      <td>0.380</td>\n    </tr>\n    <tr>\n      <th>8</th>\n      <td>9</td>\n      <td>Canada</td>\n      <td>7.278</td>\n      <td>1.365</td>\n      <td>1.505</td>\n      <td>1.039</td>\n      <td>0.584</td>\n      <td>0.285</td>\n      <td>0.308</td>\n    </tr>\n    <tr>\n      <th>9</th>\n      <td>10</td>\n      <td>Austria</td>\n      <td>7.246</td>\n      <td>1.376</td>\n      <td>1.475</td>\n      <td>1.016</td>\n      <td>0.532</td>\n      <td>0.244</td>\n      <td>0.226</td>\n    </tr>\n  </tbody>\n</table>\n</div>"
     },
     "execution_count": 34,
     "metadata": {},
     "output_type": "execute_result"
    }
   ],
   "source": [
    "top10 = data2.sort_values(by='Overall rank')[:10]\n",
    "top10"
   ],
   "metadata": {
    "collapsed": false
   }
  },
  {
   "cell_type": "code",
   "execution_count": 35,
   "outputs": [
    {
     "data": {
      "text/plain": "     Overall rank Country or region  Year  Score  GDP per capita   \n0             154       Afghanistan  2019  3.203           0.350  \\\n1             145       Afghanistan  2018  3.632           0.332   \n2             107           Albania  2019  4.719           0.947   \n3             112           Albania  2018  4.586           0.916   \n4              88           Algeria  2019  5.211           1.002   \n..            ...               ...   ...    ...             ...   \n307           152             Yemen  2018  3.355           0.442   \n308           138            Zambia  2019  4.107           0.578   \n309           125            Zambia  2018  4.377           0.562   \n310           146          Zimbabwe  2019  3.663           0.366   \n311           144          Zimbabwe  2018  3.692           0.357   \n\n     Social support  Healthy life expectancy  Freedom to make life choices   \n0             0.517                    0.361                         0.000  \\\n1             0.537                    0.255                         0.085   \n2             0.848                    0.874                         0.383   \n3             0.817                    0.790                         0.419   \n4             1.160                    0.785                         0.086   \n..              ...                      ...                           ...   \n307           1.073                    0.343                         0.244   \n308           1.058                    0.426                         0.431   \n309           1.047                    0.295                         0.503   \n310           1.114                    0.433                         0.361   \n311           1.094                    0.248                         0.406   \n\n     Generosity  Perceptions of corruption continent  \n0         0.158                      0.025      Asia  \n1         0.191                      0.036      Asia  \n2         0.178                      0.027    Europe  \n3         0.149                      0.032    Europe  \n4         0.073                      0.114    Africa  \n..          ...                        ...       ...  \n307       0.083                      0.064      Asia  \n308       0.247                      0.087    Africa  \n309       0.221                      0.082    Africa  \n310       0.151                      0.089    Africa  \n311       0.132                      0.099    Africa  \n\n[312 rows x 11 columns]",
      "text/html": "<div>\n<style scoped>\n    .dataframe tbody tr th:only-of-type {\n        vertical-align: middle;\n    }\n\n    .dataframe tbody tr th {\n        vertical-align: top;\n    }\n\n    .dataframe thead th {\n        text-align: right;\n    }\n</style>\n<table border=\"1\" class=\"dataframe\">\n  <thead>\n    <tr style=\"text-align: right;\">\n      <th></th>\n      <th>Overall rank</th>\n      <th>Country or region</th>\n      <th>Year</th>\n      <th>Score</th>\n      <th>GDP per capita</th>\n      <th>Social support</th>\n      <th>Healthy life expectancy</th>\n      <th>Freedom to make life choices</th>\n      <th>Generosity</th>\n      <th>Perceptions of corruption</th>\n      <th>continent</th>\n    </tr>\n  </thead>\n  <tbody>\n    <tr>\n      <th>0</th>\n      <td>154</td>\n      <td>Afghanistan</td>\n      <td>2019</td>\n      <td>3.203</td>\n      <td>0.350</td>\n      <td>0.517</td>\n      <td>0.361</td>\n      <td>0.000</td>\n      <td>0.158</td>\n      <td>0.025</td>\n      <td>Asia</td>\n    </tr>\n    <tr>\n      <th>1</th>\n      <td>145</td>\n      <td>Afghanistan</td>\n      <td>2018</td>\n      <td>3.632</td>\n      <td>0.332</td>\n      <td>0.537</td>\n      <td>0.255</td>\n      <td>0.085</td>\n      <td>0.191</td>\n      <td>0.036</td>\n      <td>Asia</td>\n    </tr>\n    <tr>\n      <th>2</th>\n      <td>107</td>\n      <td>Albania</td>\n      <td>2019</td>\n      <td>4.719</td>\n      <td>0.947</td>\n      <td>0.848</td>\n      <td>0.874</td>\n      <td>0.383</td>\n      <td>0.178</td>\n      <td>0.027</td>\n      <td>Europe</td>\n    </tr>\n    <tr>\n      <th>3</th>\n      <td>112</td>\n      <td>Albania</td>\n      <td>2018</td>\n      <td>4.586</td>\n      <td>0.916</td>\n      <td>0.817</td>\n      <td>0.790</td>\n      <td>0.419</td>\n      <td>0.149</td>\n      <td>0.032</td>\n      <td>Europe</td>\n    </tr>\n    <tr>\n      <th>4</th>\n      <td>88</td>\n      <td>Algeria</td>\n      <td>2019</td>\n      <td>5.211</td>\n      <td>1.002</td>\n      <td>1.160</td>\n      <td>0.785</td>\n      <td>0.086</td>\n      <td>0.073</td>\n      <td>0.114</td>\n      <td>Africa</td>\n    </tr>\n    <tr>\n      <th>...</th>\n      <td>...</td>\n      <td>...</td>\n      <td>...</td>\n      <td>...</td>\n      <td>...</td>\n      <td>...</td>\n      <td>...</td>\n      <td>...</td>\n      <td>...</td>\n      <td>...</td>\n      <td>...</td>\n    </tr>\n    <tr>\n      <th>307</th>\n      <td>152</td>\n      <td>Yemen</td>\n      <td>2018</td>\n      <td>3.355</td>\n      <td>0.442</td>\n      <td>1.073</td>\n      <td>0.343</td>\n      <td>0.244</td>\n      <td>0.083</td>\n      <td>0.064</td>\n      <td>Asia</td>\n    </tr>\n    <tr>\n      <th>308</th>\n      <td>138</td>\n      <td>Zambia</td>\n      <td>2019</td>\n      <td>4.107</td>\n      <td>0.578</td>\n      <td>1.058</td>\n      <td>0.426</td>\n      <td>0.431</td>\n      <td>0.247</td>\n      <td>0.087</td>\n      <td>Africa</td>\n    </tr>\n    <tr>\n      <th>309</th>\n      <td>125</td>\n      <td>Zambia</td>\n      <td>2018</td>\n      <td>4.377</td>\n      <td>0.562</td>\n      <td>1.047</td>\n      <td>0.295</td>\n      <td>0.503</td>\n      <td>0.221</td>\n      <td>0.082</td>\n      <td>Africa</td>\n    </tr>\n    <tr>\n      <th>310</th>\n      <td>146</td>\n      <td>Zimbabwe</td>\n      <td>2019</td>\n      <td>3.663</td>\n      <td>0.366</td>\n      <td>1.114</td>\n      <td>0.433</td>\n      <td>0.361</td>\n      <td>0.151</td>\n      <td>0.089</td>\n      <td>Africa</td>\n    </tr>\n    <tr>\n      <th>311</th>\n      <td>144</td>\n      <td>Zimbabwe</td>\n      <td>2018</td>\n      <td>3.692</td>\n      <td>0.357</td>\n      <td>1.094</td>\n      <td>0.248</td>\n      <td>0.406</td>\n      <td>0.132</td>\n      <td>0.099</td>\n      <td>Africa</td>\n    </tr>\n  </tbody>\n</table>\n<p>312 rows × 11 columns</p>\n</div>"
     },
     "execution_count": 35,
     "metadata": {},
     "output_type": "execute_result"
    }
   ],
   "source": [
    "def get_continent(country):\n",
    "    try:\n",
    "        country_code = pc.country_name_to_country_alpha2(country)\n",
    "        continent_code = pc.country_alpha2_to_continent_code(country_code)\n",
    "        continent = pc.convert_continent_code_to_continent_name(continent_code)\n",
    "        return continent\n",
    "    except:\n",
    "        return None\n",
    "\n",
    "data3['continent'] = data3['Country or region'].apply(get_continent)\n",
    "data3"
   ],
   "metadata": {
    "collapsed": false
   }
  },
  {
   "cell_type": "code",
   "execution_count": 54,
   "outputs": [
    {
     "data": {
      "text/plain": "     Overall rank         Country or region  Score  GDP per capita   \n0               1                   Finland  7.769           1.340  \\\n1               2                   Denmark  7.600           1.383   \n2               3                    Norway  7.554           1.488   \n3               4                   Iceland  7.494           1.380   \n4               5               Netherlands  7.488           1.396   \n..            ...                       ...    ...             ...   \n151           152                    Rwanda  3.334           0.359   \n152           153                  Tanzania  3.231           0.476   \n153           154               Afghanistan  3.203           0.350   \n154           155  Central African Republic  3.083           0.026   \n155           156               South Sudan  2.853           0.306   \n\n     Social support  Healthy life expectancy  Freedom to make life choices   \n0             1.587                    0.986                         0.596  \\\n1             1.573                    0.996                         0.592   \n2             1.582                    1.028                         0.603   \n3             1.624                    1.026                         0.591   \n4             1.522                    0.999                         0.557   \n..              ...                      ...                           ...   \n151           0.711                    0.614                         0.555   \n152           0.885                    0.499                         0.417   \n153           0.517                    0.361                         0.000   \n154           0.000                    0.105                         0.225   \n155           0.575                    0.295                         0.010   \n\n     Generosity  Perceptions of corruption continent  \n0         0.153                      0.393    Europe  \n1         0.252                      0.410    Europe  \n2         0.271                      0.341    Europe  \n3         0.354                      0.118    Europe  \n4         0.322                      0.298    Europe  \n..          ...                        ...       ...  \n151       0.217                      0.411    Africa  \n152       0.276                      0.147    Africa  \n153       0.158                      0.025      Asia  \n154       0.235                      0.035    Africa  \n155       0.202                      0.091    Africa  \n\n[156 rows x 10 columns]",
      "text/html": "<div>\n<style scoped>\n    .dataframe tbody tr th:only-of-type {\n        vertical-align: middle;\n    }\n\n    .dataframe tbody tr th {\n        vertical-align: top;\n    }\n\n    .dataframe thead th {\n        text-align: right;\n    }\n</style>\n<table border=\"1\" class=\"dataframe\">\n  <thead>\n    <tr style=\"text-align: right;\">\n      <th></th>\n      <th>Overall rank</th>\n      <th>Country or region</th>\n      <th>Score</th>\n      <th>GDP per capita</th>\n      <th>Social support</th>\n      <th>Healthy life expectancy</th>\n      <th>Freedom to make life choices</th>\n      <th>Generosity</th>\n      <th>Perceptions of corruption</th>\n      <th>continent</th>\n    </tr>\n  </thead>\n  <tbody>\n    <tr>\n      <th>0</th>\n      <td>1</td>\n      <td>Finland</td>\n      <td>7.769</td>\n      <td>1.340</td>\n      <td>1.587</td>\n      <td>0.986</td>\n      <td>0.596</td>\n      <td>0.153</td>\n      <td>0.393</td>\n      <td>Europe</td>\n    </tr>\n    <tr>\n      <th>1</th>\n      <td>2</td>\n      <td>Denmark</td>\n      <td>7.600</td>\n      <td>1.383</td>\n      <td>1.573</td>\n      <td>0.996</td>\n      <td>0.592</td>\n      <td>0.252</td>\n      <td>0.410</td>\n      <td>Europe</td>\n    </tr>\n    <tr>\n      <th>2</th>\n      <td>3</td>\n      <td>Norway</td>\n      <td>7.554</td>\n      <td>1.488</td>\n      <td>1.582</td>\n      <td>1.028</td>\n      <td>0.603</td>\n      <td>0.271</td>\n      <td>0.341</td>\n      <td>Europe</td>\n    </tr>\n    <tr>\n      <th>3</th>\n      <td>4</td>\n      <td>Iceland</td>\n      <td>7.494</td>\n      <td>1.380</td>\n      <td>1.624</td>\n      <td>1.026</td>\n      <td>0.591</td>\n      <td>0.354</td>\n      <td>0.118</td>\n      <td>Europe</td>\n    </tr>\n    <tr>\n      <th>4</th>\n      <td>5</td>\n      <td>Netherlands</td>\n      <td>7.488</td>\n      <td>1.396</td>\n      <td>1.522</td>\n      <td>0.999</td>\n      <td>0.557</td>\n      <td>0.322</td>\n      <td>0.298</td>\n      <td>Europe</td>\n    </tr>\n    <tr>\n      <th>...</th>\n      <td>...</td>\n      <td>...</td>\n      <td>...</td>\n      <td>...</td>\n      <td>...</td>\n      <td>...</td>\n      <td>...</td>\n      <td>...</td>\n      <td>...</td>\n      <td>...</td>\n    </tr>\n    <tr>\n      <th>151</th>\n      <td>152</td>\n      <td>Rwanda</td>\n      <td>3.334</td>\n      <td>0.359</td>\n      <td>0.711</td>\n      <td>0.614</td>\n      <td>0.555</td>\n      <td>0.217</td>\n      <td>0.411</td>\n      <td>Africa</td>\n    </tr>\n    <tr>\n      <th>152</th>\n      <td>153</td>\n      <td>Tanzania</td>\n      <td>3.231</td>\n      <td>0.476</td>\n      <td>0.885</td>\n      <td>0.499</td>\n      <td>0.417</td>\n      <td>0.276</td>\n      <td>0.147</td>\n      <td>Africa</td>\n    </tr>\n    <tr>\n      <th>153</th>\n      <td>154</td>\n      <td>Afghanistan</td>\n      <td>3.203</td>\n      <td>0.350</td>\n      <td>0.517</td>\n      <td>0.361</td>\n      <td>0.000</td>\n      <td>0.158</td>\n      <td>0.025</td>\n      <td>Asia</td>\n    </tr>\n    <tr>\n      <th>154</th>\n      <td>155</td>\n      <td>Central African Republic</td>\n      <td>3.083</td>\n      <td>0.026</td>\n      <td>0.000</td>\n      <td>0.105</td>\n      <td>0.225</td>\n      <td>0.235</td>\n      <td>0.035</td>\n      <td>Africa</td>\n    </tr>\n    <tr>\n      <th>155</th>\n      <td>156</td>\n      <td>South Sudan</td>\n      <td>2.853</td>\n      <td>0.306</td>\n      <td>0.575</td>\n      <td>0.295</td>\n      <td>0.010</td>\n      <td>0.202</td>\n      <td>0.091</td>\n      <td>Africa</td>\n    </tr>\n  </tbody>\n</table>\n<p>156 rows × 10 columns</p>\n</div>"
     },
     "execution_count": 54,
     "metadata": {},
     "output_type": "execute_result"
    }
   ],
   "source": [
    "def get_continent(country):\n",
    "    try:\n",
    "        country_code = pc.country_name_to_country_alpha2(country)\n",
    "        continent_code = pc.country_alpha2_to_continent_code(country_code)\n",
    "        continent = pc.convert_continent_code_to_continent_name(continent_code)\n",
    "        return continent\n",
    "    except:\n",
    "        return None\n",
    "\n",
    "data2['continent'] = data2['Country or region'].apply(get_continent)\n",
    "data2"
   ],
   "metadata": {
    "collapsed": false
   }
  },
  {
   "cell_type": "code",
   "execution_count": 36,
   "outputs": [
    {
     "data": {
      "text/plain": "     Overall rank Country or region  Year  Score  GDP per capita   \n156           141           Liberia  2019  3.975           0.073  \\\n178            55         Mauritius  2018  5.891           1.090   \n177            57         Mauritius  2019  5.888           1.120   \n176           126        Mauritania  2018  4.356           0.557   \n175           122        Mauritania  2019  4.490           0.570   \n172           118              Mali  2018  4.447           0.370   \n171           128              Mali  2019  4.390           0.385   \n168           147            Malawi  2018  3.587           0.186   \n167           150            Malawi  2019  3.410           0.191   \n\n     Social support  Healthy life expectancy  Freedom to make life choices   \n156           0.922                    0.443                         0.370  \\\n178           1.387                    0.684                         0.584   \n177           1.402                    0.798                         0.498   \n176           1.245                    0.292                         0.129   \n175           1.167                    0.489                         0.066   \n172           1.233                    0.152                         0.367   \n171           1.105                    0.308                         0.327   \n168           0.541                    0.306                         0.531   \n167           0.560                    0.495                         0.443   \n\n     Generosity  Perceptions of corruption continent  \n156       0.233                      0.033    Africa  \n178       0.245                      0.050    Africa  \n177       0.215                      0.060    Africa  \n176       0.134                      0.093    Africa  \n175       0.106                      0.088    Africa  \n172       0.139                      0.056    Africa  \n171       0.153                      0.052    Africa  \n168       0.210                      0.080    Africa  \n167       0.218                      0.089    Africa  ",
      "text/html": "<div>\n<style scoped>\n    .dataframe tbody tr th:only-of-type {\n        vertical-align: middle;\n    }\n\n    .dataframe tbody tr th {\n        vertical-align: top;\n    }\n\n    .dataframe thead th {\n        text-align: right;\n    }\n</style>\n<table border=\"1\" class=\"dataframe\">\n  <thead>\n    <tr style=\"text-align: right;\">\n      <th></th>\n      <th>Overall rank</th>\n      <th>Country or region</th>\n      <th>Year</th>\n      <th>Score</th>\n      <th>GDP per capita</th>\n      <th>Social support</th>\n      <th>Healthy life expectancy</th>\n      <th>Freedom to make life choices</th>\n      <th>Generosity</th>\n      <th>Perceptions of corruption</th>\n      <th>continent</th>\n    </tr>\n  </thead>\n  <tbody>\n    <tr>\n      <th>156</th>\n      <td>141</td>\n      <td>Liberia</td>\n      <td>2019</td>\n      <td>3.975</td>\n      <td>0.073</td>\n      <td>0.922</td>\n      <td>0.443</td>\n      <td>0.370</td>\n      <td>0.233</td>\n      <td>0.033</td>\n      <td>Africa</td>\n    </tr>\n    <tr>\n      <th>178</th>\n      <td>55</td>\n      <td>Mauritius</td>\n      <td>2018</td>\n      <td>5.891</td>\n      <td>1.090</td>\n      <td>1.387</td>\n      <td>0.684</td>\n      <td>0.584</td>\n      <td>0.245</td>\n      <td>0.050</td>\n      <td>Africa</td>\n    </tr>\n    <tr>\n      <th>177</th>\n      <td>57</td>\n      <td>Mauritius</td>\n      <td>2019</td>\n      <td>5.888</td>\n      <td>1.120</td>\n      <td>1.402</td>\n      <td>0.798</td>\n      <td>0.498</td>\n      <td>0.215</td>\n      <td>0.060</td>\n      <td>Africa</td>\n    </tr>\n    <tr>\n      <th>176</th>\n      <td>126</td>\n      <td>Mauritania</td>\n      <td>2018</td>\n      <td>4.356</td>\n      <td>0.557</td>\n      <td>1.245</td>\n      <td>0.292</td>\n      <td>0.129</td>\n      <td>0.134</td>\n      <td>0.093</td>\n      <td>Africa</td>\n    </tr>\n    <tr>\n      <th>175</th>\n      <td>122</td>\n      <td>Mauritania</td>\n      <td>2019</td>\n      <td>4.490</td>\n      <td>0.570</td>\n      <td>1.167</td>\n      <td>0.489</td>\n      <td>0.066</td>\n      <td>0.106</td>\n      <td>0.088</td>\n      <td>Africa</td>\n    </tr>\n    <tr>\n      <th>172</th>\n      <td>118</td>\n      <td>Mali</td>\n      <td>2018</td>\n      <td>4.447</td>\n      <td>0.370</td>\n      <td>1.233</td>\n      <td>0.152</td>\n      <td>0.367</td>\n      <td>0.139</td>\n      <td>0.056</td>\n      <td>Africa</td>\n    </tr>\n    <tr>\n      <th>171</th>\n      <td>128</td>\n      <td>Mali</td>\n      <td>2019</td>\n      <td>4.390</td>\n      <td>0.385</td>\n      <td>1.105</td>\n      <td>0.308</td>\n      <td>0.327</td>\n      <td>0.153</td>\n      <td>0.052</td>\n      <td>Africa</td>\n    </tr>\n    <tr>\n      <th>168</th>\n      <td>147</td>\n      <td>Malawi</td>\n      <td>2018</td>\n      <td>3.587</td>\n      <td>0.186</td>\n      <td>0.541</td>\n      <td>0.306</td>\n      <td>0.531</td>\n      <td>0.210</td>\n      <td>0.080</td>\n      <td>Africa</td>\n    </tr>\n    <tr>\n      <th>167</th>\n      <td>150</td>\n      <td>Malawi</td>\n      <td>2019</td>\n      <td>3.410</td>\n      <td>0.191</td>\n      <td>0.560</td>\n      <td>0.495</td>\n      <td>0.443</td>\n      <td>0.218</td>\n      <td>0.089</td>\n      <td>Africa</td>\n    </tr>\n  </tbody>\n</table>\n</div>"
     },
     "execution_count": 36,
     "metadata": {},
     "output_type": "execute_result"
    }
   ],
   "source": [
    "conti = data3.sort_values(by='continent')[:9]\n",
    "conti"
   ],
   "metadata": {
    "collapsed": false
   }
  },
  {
   "cell_type": "code",
   "execution_count": 52,
   "outputs": [
    {
     "name": "stdout",
     "output_type": "stream",
     "text": [
      "Mean scores by continent:\n",
      "continent\n",
      "Africa           4.320835\n",
      "Asia             5.282467\n",
      "Europe           6.240526\n",
      "North America    6.117880\n",
      "Oceania          7.282750\n",
      "South America    5.949950\n",
      "Name: Score, dtype: float64\n",
      "\n",
      "Median scores by continent:\n",
      "continent\n",
      "Africa           4.3900\n",
      "Asia             5.2540\n",
      "Europe           6.1360\n",
      "North America    6.2530\n",
      "Oceania          7.2895\n",
      "South America    6.0570\n",
      "Name: Score, dtype: float64\n"
     ]
    }
   ],
   "source": [
    "grouped = data3.groupby('continent')['Score']\n",
    "mean_scores = grouped.mean()\n",
    "median_scores = grouped.median()\n",
    "\n",
    "# Print the results\n",
    "print('Mean scores by continent:')\n",
    "print(mean_scores)\n",
    "print('\\nMedian scores by continent:')\n",
    "print(median_scores)"
   ],
   "metadata": {
    "collapsed": false
   }
  },
  {
   "cell_type": "code",
   "execution_count": 53,
   "outputs": [
    {
     "data": {
      "text/plain": "<Figure size 640x480 with 1 Axes>",
      "image/png": "[encoded data removed]"
     },
     "metadata": {},
     "output_type": "display_data"
    }
   ],
   "source": [
    "data_top10 = top10.nlargest(10, 'Score')\n",
    "ax = sns.barplot(x=\"Score\", y=\"Country or region\", data=top10)\n",
    "ax.set(xlabel='Score', ylabel='Land')\n",
    "plt.title('the happiest countries 18/19')\n",
    "plt.show()"
   ],
   "metadata": {
    "collapsed": false
   }
  },
  {
   "cell_type": "code",
   "execution_count": 39,
   "outputs": [
    {
     "data": {
      "text/plain": "([<matplotlib.axis.XTick at 0x1e0453aad60>,\n  <matplotlib.axis.XTick at 0x1e0453aa610>],\n [Text(2018, 0, '2018'), Text(2019, 0, '2019')])"
     },
     "execution_count": 39,
     "metadata": {},
     "output_type": "execute_result"
    },
    {
     "data": {
      "text/plain": "<Figure size 640x480 with 1 Axes>",
      "image/png": "[encoded data removed]"
     },
     "metadata": {},
     "output_type": "display_data"
    }
   ],
   "source": [
    "df = data3.loc[data3[\"Overall rank\"]<7]\n",
    "sns.lineplot(data=df,x=df[\"Year\"],y=\"Score\",hue=\"Country or region\")\n",
    "plt.xticks([2018,2019])"
   ],
   "metadata": {
    "collapsed": false
   }
  },
  {
   "cell_type": "code",
   "execution_count": 55,
   "outputs": [
    {
     "data": {
      "text/plain": "<Figure size 640x480 with 1 Axes>",
      "image/png": "[encoded data removed]"
     },
     "metadata": {},
     "output_type": "display_data"
    }
   ],
   "source": [
    "continent = data2.groupby(\"continent\")['Country or region'].count().reset_index()\n",
    "continent.columns = ['Kontinent', 'Anzahl der Länder']\n",
    "sns.barplot(x='Kontinent', y='Anzahl der Länder', data=continent, palette=\"dark:#5A9_r\")\n",
    "plt.xlabel('Continent')\n",
    "plt.ylabel('Countries')\n",
    "plt.title('Distribution of countries per continent')\n",
    "plt.savefig('bar_plot2.pdf', format='png')\n",
    "plt.show()"
   ],
   "metadata": {
    "collapsed": false
   }
  },
  {
   "cell_type": "code",
   "execution_count": 88,
   "outputs": [
    {
     "data": {
      "application/vnd.plotly.v1+json": {
       "data": [
        {
         "alignmentgroup": "True",
         "hovertemplate": "Continent=%{x}<br>Happyness=%{y}<extra></extra>",
         "legendgroup": "Asia",
         "marker": {
          "color": "#636efa"
         },
         "name": "Asia",
         "notched": false,
         "offsetgroup": "Asia",
         "orientation": "v",
         "showlegend": true,
         "x": [
          "Asia",
          "Asia",
          "Asia",
          "Asia",
          "Asia",
          "Asia",
          "Asia",
          "Asia",
          "Asia",
          "Asia",
          "Asia",
          "Asia",
          "Asia",
          "Asia",
          "Asia",
          "Asia",
          "Asia",
          "Asia",
          "Asia",
          "Asia",
          "Asia",
          "Asia",
          "Asia",
          "Asia",
          "Asia",
          "Asia",
          "Asia",
          "Asia",
          "Asia",
          "Asia",
          "Asia",
          "Asia",
          "Asia",
          "Asia",
          "Asia",
          "Asia",
          "Asia",
          "Asia",
          "Asia",
          "Asia",
          "Asia",
          "Asia",
          "Asia",
          "Asia",
          "Asia",
          "Asia",
          "Asia",
          "Asia",
          "Asia",
          "Asia",
          "Asia",
          "Asia",
          "Asia",
          "Asia",
          "Asia",
          "Asia",
          "Asia",
          "Asia",
          "Asia",
          "Asia",
          "Asia",
          "Asia",
          "Asia",
          "Asia",
          "Asia",
          "Asia",
          "Asia",
          "Asia",
          "Asia",
          "Asia",
          "Asia",
          "Asia",
          "Asia",
          "Asia",
          "Asia",
          "Asia",
          "Asia",
          "Asia",
          "Asia",
          "Asia",
          "Asia",
          "Asia",
          "Asia",
          "Asia",
          "Asia",
          "Asia",
          "Asia",
          "Asia",
          "Asia",
          "Asia"
         ],
         "x0": " ",
         "xaxis": "x",
         "y": [
          3.203,
          3.632,
          4.559,
          4.321,
          5.208,
          5.201,
          6.199,
          6.105,
          4.456,
          4.5,
          5.082,
          5.082,
          4.7,
          4.433,
          5.191,
          5.246,
          6.046,
          5.762,
          4.519,
          4.34,
          5.43,
          5.43,
          4.015,
          4.19,
          5.192,
          5.093,
          4.548,
          4.707,
          4.437,
          4.456,
          7.139,
          6.814,
          5.886,
          5.915,
          4.906,
          5.161,
          5.809,
          5.79,
          6.021,
          6.083,
          5.261,
          5.131,
          4.796,
          4.623,
          5.197,
          5.358,
          5.339,
          6.322,
          5.285,
          5.125,
          4.36,
          4.308,
          4.913,
          4.88,
          5.718,
          5.835,
          5.653,
          5.472,
          5.631,
          5.524,
          6.374,
          6.374,
          6.375,
          6.371,
          6.262,
          6.343,
          5.895,
          5.875,
          4.366,
          4.471,
          3.462,
          3.462,
          6.446,
          6.441,
          5.467,
          5.199,
          6.008,
          6.072,
          5.373,
          5.483,
          5.247,
          5.636,
          6.825,
          6.774,
          6.174,
          6.096,
          5.175,
          5.103,
          3.38,
          3.355
         ],
         "y0": " ",
         "yaxis": "y",
         "type": "box"
        },
        {
         "alignmentgroup": "True",
         "hovertemplate": "Continent=%{x}<br>Happyness=%{y}<extra></extra>",
         "legendgroup": "Europe",
         "marker": {
          "color": "#EF553B"
         },
         "name": "Europe",
         "notched": false,
         "offsetgroup": "Europe",
         "orientation": "v",
         "showlegend": true,
         "x": [
          "Europe",
          "Europe",
          "Europe",
          "Europe",
          "Europe",
          "Europe",
          "Europe",
          "Europe",
          "Europe",
          "Europe",
          "Europe",
          "Europe",
          "Europe",
          "Europe",
          "Europe",
          "Europe",
          "Europe",
          "Europe",
          "Europe",
          "Europe",
          "Europe",
          "Europe",
          "Europe",
          "Europe",
          "Europe",
          "Europe",
          "Europe",
          "Europe",
          "Europe",
          "Europe",
          "Europe",
          "Europe",
          "Europe",
          "Europe",
          "Europe",
          "Europe",
          "Europe",
          "Europe",
          "Europe",
          "Europe",
          "Europe",
          "Europe",
          "Europe",
          "Europe",
          "Europe",
          "Europe",
          "Europe",
          "Europe",
          "Europe",
          "Europe",
          "Europe",
          "Europe",
          "Europe",
          "Europe",
          "Europe",
          "Europe",
          "Europe",
          "Europe",
          "Europe",
          "Europe",
          "Europe",
          "Europe",
          "Europe",
          "Europe",
          "Europe",
          "Europe",
          "Europe",
          "Europe",
          "Europe",
          "Europe",
          "Europe",
          "Europe",
          "Europe",
          "Europe",
          "Europe",
          "Europe",
          "Europe",
          "Europe"
         ],
         "x0": " ",
         "xaxis": "x",
         "y": [
          4.719,
          4.586,
          7.246,
          7.139,
          5.323,
          5.483,
          6.923,
          6.927,
          5.386,
          5.129,
          5.011,
          4.933,
          5.432,
          5.321,
          6.852,
          6.711,
          7.6,
          7.555,
          5.893,
          5.739,
          7.769,
          7.632,
          6.592,
          6.489,
          6.985,
          6.965,
          5.287,
          5.358,
          5.758,
          5.62,
          7.494,
          7.495,
          7.021,
          6.977,
          6.223,
          6.0,
          5.94,
          5.933,
          6.149,
          5.952,
          7.09,
          6.91,
          5.185,
          6.726,
          6.627,
          5.529,
          5.64,
          5.523,
          5.347,
          7.488,
          7.441,
          5.274,
          7.554,
          7.594,
          6.182,
          6.123,
          5.693,
          5.41,
          6.07,
          5.945,
          5.648,
          5.81,
          5.603,
          5.398,
          6.198,
          6.173,
          6.118,
          5.948,
          6.354,
          6.31,
          7.343,
          7.314,
          7.48,
          7.487,
          4.332,
          4.103,
          7.054,
          7.19
         ],
         "y0": " ",
         "yaxis": "y",
         "type": "box"
        },
        {
         "alignmentgroup": "True",
         "hovertemplate": "Continent=%{x}<br>Happyness=%{y}<extra></extra>",
         "legendgroup": "Africa",
         "marker": {
          "color": "#00cc96"
         },
         "name": "Africa",
         "notched": false,
         "offsetgroup": "Africa",
         "orientation": "v",
         "showlegend": true,
         "x": [
          "Africa",
          "Africa",
          "Africa",
          "Africa",
          "Africa",
          "Africa",
          "Africa",
          "Africa",
          "Africa",
          "Africa",
          "Africa",
          "Africa",
          "Africa",
          "Africa",
          "Africa",
          "Africa",
          "Africa",
          "Africa",
          "Africa",
          "Africa",
          "Africa",
          "Africa",
          "Africa",
          "Africa",
          "Africa",
          "Africa",
          "Africa",
          "Africa",
          "Africa",
          "Africa",
          "Africa",
          "Africa",
          "Africa",
          "Africa",
          "Africa",
          "Africa",
          "Africa",
          "Africa",
          "Africa",
          "Africa",
          "Africa",
          "Africa",
          "Africa",
          "Africa",
          "Africa",
          "Africa",
          "Africa",
          "Africa",
          "Africa",
          "Africa",
          "Africa",
          "Africa",
          "Africa",
          "Africa",
          "Africa",
          "Africa",
          "Africa",
          "Africa",
          "Africa",
          "Africa",
          "Africa",
          "Africa",
          "Africa",
          "Africa",
          "Africa",
          "Africa",
          "Africa",
          "Africa",
          "Africa",
          "Africa",
          "Africa",
          "Africa",
          "Africa",
          "Africa",
          "Africa",
          "Africa",
          "Africa",
          "Africa",
          "Africa",
          "Africa",
          "Africa",
          "Africa",
          "Africa",
          "Africa",
          "Africa"
         ],
         "x0": " ",
         "xaxis": "x",
         "y": [
          5.211,
          5.295,
          3.795,
          4.883,
          4.141,
          3.488,
          3.59,
          4.587,
          4.424,
          3.775,
          2.905,
          5.044,
          4.975,
          3.083,
          3.083,
          4.35,
          4.301,
          3.973,
          4.166,
          4.419,
          4.286,
          4.35,
          4.799,
          4.758,
          4.516,
          4.996,
          4.657,
          4.534,
          3.964,
          4.944,
          4.671,
          4.509,
          4.41,
          3.802,
          3.808,
          3.975,
          3.495,
          5.525,
          5.566,
          3.933,
          3.774,
          3.41,
          3.587,
          4.39,
          4.447,
          4.49,
          4.356,
          5.888,
          5.891,
          5.208,
          5.254,
          4.466,
          4.417,
          4.639,
          4.441,
          4.628,
          4.166,
          5.265,
          5.155,
          3.334,
          3.408,
          4.681,
          4.631,
          4.374,
          4.571,
          4.668,
          4.982,
          4.722,
          4.724,
          2.853,
          3.254,
          4.139,
          4.212,
          3.231,
          3.303,
          4.085,
          3.999,
          4.461,
          4.592,
          4.189,
          4.161,
          4.107,
          4.377,
          3.663,
          3.692
         ],
         "y0": " ",
         "yaxis": "y",
         "type": "box"
        },
        {
         "alignmentgroup": "True",
         "hovertemplate": "Continent=%{x}<br>Happyness=%{y}<extra></extra>",
         "legendgroup": "South America",
         "marker": {
          "color": "#ab63fa"
         },
         "name": "South America",
         "notched": false,
         "offsetgroup": "South America",
         "orientation": "v",
         "showlegend": true,
         "x": [
          "South America",
          "South America",
          "South America",
          "South America",
          "South America",
          "South America",
          "South America",
          "South America",
          "South America",
          "South America",
          "South America",
          "South America",
          "South America",
          "South America",
          "South America",
          "South America",
          "South America",
          "South America",
          "South America",
          "South America"
         ],
         "x0": " ",
         "xaxis": "x",
         "y": [
          6.086,
          6.388,
          5.779,
          5.752,
          6.3,
          6.419,
          6.444,
          6.476,
          6.125,
          6.26,
          6.028,
          5.973,
          5.743,
          5.681,
          5.697,
          5.663,
          6.293,
          6.379,
          4.707,
          4.806
         ],
         "y0": " ",
         "yaxis": "y",
         "type": "box"
        },
        {
         "alignmentgroup": "True",
         "hovertemplate": "Continent=%{x}<br>Happyness=%{y}<extra></extra>",
         "legendgroup": "Oceania",
         "marker": {
          "color": "#FFA15A"
         },
         "name": "Oceania",
         "notched": false,
         "offsetgroup": "Oceania",
         "orientation": "v",
         "showlegend": true,
         "x": [
          "Oceania",
          "Oceania",
          "Oceania",
          "Oceania"
         ],
         "x0": " ",
         "xaxis": "x",
         "y": [
          7.228,
          7.272,
          7.307,
          7.324
         ],
         "y0": " ",
         "yaxis": "y",
         "type": "box"
        },
        {
         "alignmentgroup": "True",
         "hovertemplate": "Continent=%{x}<br>Happyness=%{y}<extra></extra>",
         "legendgroup": "North America",
         "marker": {
          "color": "#19d3f3"
         },
         "name": "North America",
         "notched": false,
         "offsetgroup": "North America",
         "orientation": "v",
         "showlegend": true,
         "x": [
          "North America",
          "North America",
          "North America",
          "North America",
          "North America",
          "North America",
          "North America",
          "North America",
          "North America",
          "North America",
          "North America",
          "North America",
          "North America",
          "North America",
          "North America",
          "North America",
          "North America",
          "North America",
          "North America",
          "North America",
          "North America",
          "North America",
          "North America",
          "North America",
          "North America"
         ],
         "x0": " ",
         "xaxis": "x",
         "y": [
          5.956,
          7.278,
          7.328,
          7.167,
          7.072,
          5.425,
          5.302,
          6.253,
          6.167,
          6.436,
          6.382,
          3.597,
          3.582,
          5.86,
          5.504,
          5.89,
          5.89,
          6.595,
          6.488,
          6.105,
          6.141,
          6.321,
          6.43,
          6.892,
          6.886
         ],
         "y0": " ",
         "yaxis": "y",
         "type": "box"
        }
       ],
       "layout": {
        "template": {
         "data": {
          "histogram2dcontour": [
           {
            "type": "histogram2dcontour",
            "colorbar": {
             "outlinewidth": 0,
             "ticks": ""
            },
            "colorscale": [
             [
              0.0,
              "#0d0887"
             ],
             [
              0.1111111111111111,
              "#46039f"
             ],
             [
              0.2222222222222222,
              "#7201a8"
             ],
             [
              0.3333333333333333,
              "#9c179e"
             ],
             [
              0.4444444444444444,
              "#bd3786"
             ],
             [
              0.5555555555555556,
              "#d8576b"
             ],
             [
              0.6666666666666666,
              "#ed7953"
             ],
             [
              0.7777777777777778,
              "#fb9f3a"
             ],
             [
              0.8888888888888888,
              "#fdca26"
             ],
             [
              1.0,
              "#f0f921"
             ]
            ]
           }
          ],
          "choropleth": [
           {
            "type": "choropleth",
            "colorbar": {
             "outlinewidth": 0,
             "ticks": ""
            }
           }
          ],
          "histogram2d": [
           {
            "type": "histogram2d",
            "colorbar": {
             "outlinewidth": 0,
             "ticks": ""
            },
            "colorscale": [
             [
              0.0,
              "#0d0887"
             ],
             [
              0.1111111111111111,
              "#46039f"
             ],
             [
              0.2222222222222222,
              "#7201a8"
             ],
             [
              0.3333333333333333,
              "#9c179e"
             ],
             [
              0.4444444444444444,
              "#bd3786"
             ],
             [
              0.5555555555555556,
              "#d8576b"
             ],
             [
              0.6666666666666666,
              "#ed7953"
             ],
             [
              0.7777777777777778,
              "#fb9f3a"
             ],
             [
              0.8888888888888888,
              "#fdca26"
             ],
             [
              1.0,
              "#f0f921"
             ]
            ]
           }
          ],
          "heatmap": [
           {
            "type": "heatmap",
            "colorbar": {
             "outlinewidth": 0,
             "ticks": ""
            },
            "colorscale": [
             [
              0.0,
              "#0d0887"
             ],
             [
              0.1111111111111111,
              "#46039f"
             ],
             [
              0.2222222222222222,
              "#7201a8"
             ],
             [
              0.3333333333333333,
              "#9c179e"
             ],
             [
              0.4444444444444444,
              "#bd3786"
             ],
             [
              0.5555555555555556,
              "#d8576b"
             ],
             [
              0.6666666666666666,
              "#ed7953"
             ],
             [
              0.7777777777777778,
              "#fb9f3a"
             ],
             [
              0.8888888888888888,
              "#fdca26"
             ],
             [
              1.0,
              "#f0f921"
             ]
            ]
           }
          ],
          "heatmapgl": [
           {
            "type": "heatmapgl",
            "colorbar": {
             "outlinewidth": 0,
             "ticks": ""
            },
            "colorscale": [
             [
              0.0,
              "#0d0887"
             ],
             [
              0.1111111111111111,
              "#46039f"
             ],
             [
              0.2222222222222222,
              "#7201a8"
             ],
             [
              0.3333333333333333,
              "#9c179e"
             ],
             [
              0.4444444444444444,
              "#bd3786"
             ],
             [
              0.5555555555555556,
              "#d8576b"
             ],
             [
              0.6666666666666666,
              "#ed7953"
             ],
             [
              0.7777777777777778,
              "#fb9f3a"
             ],
             [
              0.8888888888888888,
              "#fdca26"
             ],
             [
              1.0,
              "#f0f921"
             ]
            ]
           }
          ],
          "contourcarpet": [
           {
            "type": "contourcarpet",
            "colorbar": {
             "outlinewidth": 0,
             "ticks": ""
            }
           }
          ],
          "contour": [
           {
            "type": "contour",
            "colorbar": {
             "outlinewidth": 0,
             "ticks": ""
            },
            "colorscale": [
             [
              0.0,
              "#0d0887"
             ],
             [
              0.1111111111111111,
              "#46039f"
             ],
             [
              0.2222222222222222,
              "#7201a8"
             ],
             [
              0.3333333333333333,
              "#9c179e"
             ],
             [
              0.4444444444444444,
              "#bd3786"
             ],
             [
              0.5555555555555556,
              "#d8576b"
             ],
             [
              0.6666666666666666,
              "#ed7953"
             ],
             [
              0.7777777777777778,
              "#fb9f3a"
             ],
             [
              0.8888888888888888,
              "#fdca26"
             ],
             [
              1.0,
              "#f0f921"
             ]
            ]
           }
          ],
          "surface": [
           {
            "type": "surface",
            "colorbar": {
             "outlinewidth": 0,
             "ticks": ""
            },
            "colorscale": [
             [
              0.0,
              "#0d0887"
             ],
             [
              0.1111111111111111,
              "#46039f"
             ],
             [
              0.2222222222222222,
              "#7201a8"
             ],
             [
              0.3333333333333333,
              "#9c179e"
             ],
             [
              0.4444444444444444,
              "#bd3786"
             ],
             [
              0.5555555555555556,
              "#d8576b"
             ],
             [
              0.6666666666666666,
              "#ed7953"
             ],
             [
              0.7777777777777778,
              "#fb9f3a"
             ],
             [
              0.8888888888888888,
              "#fdca26"
             ],
             [
              1.0,
              "#f0f921"
             ]
            ]
           }
          ],
          "mesh3d": [
           {
            "type": "mesh3d",
            "colorbar": {
             "outlinewidth": 0,
             "ticks": ""
            }
           }
          ],
          "scatter": [
           {
            "fillpattern": {
             "fillmode": "overlay",
             "size": 10,
             "solidity": 0.2
            },
            "type": "scatter"
           }
          ],
          "parcoords": [
           {
            "type": "parcoords",
            "line": {
             "colorbar": {
              "outlinewidth": 0,
              "ticks": ""
             }
            }
           }
          ],
          "scatterpolargl": [
           {
            "type": "scatterpolargl",
            "marker": {
             "colorbar": {
              "outlinewidth": 0,
              "ticks": ""
             }
            }
           }
          ],
          "bar": [
           {
            "error_x": {
             "color": "#2a3f5f"
            },
            "error_y": {
             "color": "#2a3f5f"
            },
            "marker": {
             "line": {
              "color": "#E5ECF6",
              "width": 0.5
             },
             "pattern": {
              "fillmode": "overlay",
              "size": 10,
              "solidity": 0.2
             }
            },
            "type": "bar"
           }
          ],
          "scattergeo": [
           {
            "type": "scattergeo",
            "marker": {
             "colorbar": {
              "outlinewidth": 0,
              "ticks": ""
             }
            }
           }
          ],
          "scatterpolar": [
           {
            "type": "scatterpolar",
            "marker": {
             "colorbar": {
              "outlinewidth": 0,
              "ticks": ""
             }
            }
           }
          ],
          "histogram": [
           {
            "marker": {
             "pattern": {
              "fillmode": "overlay",
              "size": 10,
              "solidity": 0.2
             }
            },
            "type": "histogram"
           }
          ],
          "scattergl": [
           {
            "type": "scattergl",
            "marker": {
             "colorbar": {
              "outlinewidth": 0,
              "ticks": ""
             }
            }
           }
          ],
          "scatter3d": [
           {
            "type": "scatter3d",
            "line": {
             "colorbar": {
              "outlinewidth": 0,
              "ticks": ""
             }
            },
            "marker": {
             "colorbar": {
              "outlinewidth": 0,
              "ticks": ""
             }
            }
           }
          ],
          "scattermapbox": [
           {
            "type": "scattermapbox",
            "marker": {
             "colorbar": {
              "outlinewidth": 0,
              "ticks": ""
             }
            }
           }
          ],
          "scatterternary": [
           {
            "type": "scatterternary",
            "marker": {
             "colorbar": {
              "outlinewidth": 0,
              "ticks": ""
             }
            }
           }
          ],
          "scattercarpet": [
           {
            "type": "scattercarpet",
            "marker": {
             "colorbar": {
              "outlinewidth": 0,
              "ticks": ""
             }
            }
           }
          ],
          "carpet": [
           {
            "aaxis": {
             "endlinecolor": "#2a3f5f",
             "gridcolor": "white",
             "linecolor": "white",
             "minorgridcolor": "white",
             "startlinecolor": "#2a3f5f"
            },
            "baxis": {
             "endlinecolor": "#2a3f5f",
             "gridcolor": "white",
             "linecolor": "white",
             "minorgridcolor": "white",
             "startlinecolor": "#2a3f5f"
            },
            "type": "carpet"
           }
          ],
          "table": [
           {
            "cells": {
             "fill": {
              "color": "#EBF0F8"
             },
             "line": {
              "color": "white"
             }
            },
            "header": {
             "fill": {
              "color": "#C8D4E3"
             },
             "line": {
              "color": "white"
             }
            },
            "type": "table"
           }
          ],
          "barpolar": [
           {
            "marker": {
             "line": {
              "color": "#E5ECF6",
              "width": 0.5
             },
             "pattern": {
              "fillmode": "overlay",
              "size": 10,
              "solidity": 0.2
             }
            },
            "type": "barpolar"
           }
          ],
          "pie": [
           {
            "automargin": true,
            "type": "pie"
           }
          ]
         },
         "layout": {
          "autotypenumbers": "strict",
          "colorway": [
           "#636efa",
           "#EF553B",
           "#00cc96",
           "#ab63fa",
           "#FFA15A",
           "#19d3f3",
           "#FF6692",
           "#B6E880",
           "#FF97FF",
           "#FECB52"
          ],
          "font": {
           "color": "#2a3f5f"
          },
          "hovermode": "closest",
          "hoverlabel": {
           "align": "left"
          },
          "paper_bgcolor": "white",
          "plot_bgcolor": "#E5ECF6",
          "polar": {
           "bgcolor": "#E5ECF6",
           "angularaxis": {
            "gridcolor": "white",
            "linecolor": "white",
            "ticks": ""
           },
           "radialaxis": {
            "gridcolor": "white",
            "linecolor": "white",
            "ticks": ""
           }
          },
          "ternary": {
           "bgcolor": "#E5ECF6",
           "aaxis": {
            "gridcolor": "white",
            "linecolor": "white",
            "ticks": ""
           },
           "baxis": {
            "gridcolor": "white",
            "linecolor": "white",
            "ticks": ""
           },
           "caxis": {
            "gridcolor": "white",
            "linecolor": "white",
            "ticks": ""
           }
          },
          "coloraxis": {
           "colorbar": {
            "outlinewidth": 0,
            "ticks": ""
           }
          },
          "colorscale": {
           "sequential": [
            [
             0.0,
             "#0d0887"
            ],
            [
             0.1111111111111111,
             "#46039f"
            ],
            [
             0.2222222222222222,
             "#7201a8"
            ],
            [
             0.3333333333333333,
             "#9c179e"
            ],
            [
             0.4444444444444444,
             "#bd3786"
            ],
            [
             0.5555555555555556,
             "#d8576b"
            ],
            [
             0.6666666666666666,
             "#ed7953"
            ],
            [
             0.7777777777777778,
             "#fb9f3a"
            ],
            [
             0.8888888888888888,
             "#fdca26"
            ],
            [
             1.0,
             "#f0f921"
            ]
           ],
           "sequentialminus": [
            [
             0.0,
             "#0d0887"
            ],
            [
             0.1111111111111111,
             "#46039f"
            ],
            [
             0.2222222222222222,
             "#7201a8"
            ],
            [
             0.3333333333333333,
             "#9c179e"
            ],
            [
             0.4444444444444444,
             "#bd3786"
            ],
            [
             0.5555555555555556,
             "#d8576b"
            ],
            [
             0.6666666666666666,
             "#ed7953"
            ],
            [
             0.7777777777777778,
             "#fb9f3a"
            ],
            [
             0.8888888888888888,
             "#fdca26"
            ],
            [
             1.0,
             "#f0f921"
            ]
           ],
           "diverging": [
            [
             0,
             "#8e0152"
            ],
            [
             0.1,
             "#c51b7d"
            ],
            [
             0.2,
             "#de77ae"
            ],
            [
             0.3,
             "#f1b6da"
            ],
            [
             0.4,
             "#fde0ef"
            ],
            [
             0.5,
             "#f7f7f7"
            ],
            [
             0.6,
             "#e6f5d0"
            ],
            [
             0.7,
             "#b8e186"
            ],
            [
             0.8,
             "#7fbc41"
            ],
            [
             0.9,
             "#4d9221"
            ],
            [
             1,
             "#276419"
            ]
           ]
          },
          "xaxis": {
           "gridcolor": "white",
           "linecolor": "white",
           "ticks": "",
           "title": {
            "standoff": 15
           },
           "zerolinecolor": "white",
           "automargin": true,
           "zerolinewidth": 2
          },
          "yaxis": {
           "gridcolor": "white",
           "linecolor": "white",
           "ticks": "",
           "title": {
            "standoff": 15
           },
           "zerolinecolor": "white",
           "automargin": true,
           "zerolinewidth": 2
          },
          "scene": {
           "xaxis": {
            "backgroundcolor": "#E5ECF6",
            "gridcolor": "white",
            "linecolor": "white",
            "showbackground": true,
            "ticks": "",
            "zerolinecolor": "white",
            "gridwidth": 2
           },
           "yaxis": {
            "backgroundcolor": "#E5ECF6",
            "gridcolor": "white",
            "linecolor": "white",
            "showbackground": true,
            "ticks": "",
            "zerolinecolor": "white",
            "gridwidth": 2
           },
           "zaxis": {
            "backgroundcolor": "#E5ECF6",
            "gridcolor": "white",
            "linecolor": "white",
            "showbackground": true,
            "ticks": "",
            "zerolinecolor": "white",
            "gridwidth": 2
           }
          },
          "shapedefaults": {
           "line": {
            "color": "#2a3f5f"
           }
          },
          "annotationdefaults": {
           "arrowcolor": "#2a3f5f",
           "arrowhead": 0,
           "arrowwidth": 1
          },
          "geo": {
           "bgcolor": "white",
           "landcolor": "#E5ECF6",
           "subunitcolor": "white",
           "showland": true,
           "showlakes": true,
           "lakecolor": "white"
          },
          "title": {
           "x": 0.05
          },
          "mapbox": {
           "style": "light"
          }
         }
        },
        "xaxis": {
         "anchor": "y",
         "domain": [
          0.0,
          1.0
         ],
         "title": {
          "text": "Continent"
         },
         "categoryorder": "array",
         "categoryarray": [
          "Asia",
          "Europe",
          "Africa",
          "South America",
          "Oceania",
          "North America",
          null
         ]
        },
        "yaxis": {
         "anchor": "x",
         "domain": [
          0.0,
          1.0
         ],
         "title": {
          "text": "Happyness"
         }
        },
        "legend": {
         "title": {
          "text": "Continent"
         },
         "tracegroupgap": 0
        },
        "title": {
         "text": "Happiness of the Continents"
        },
        "boxmode": "overlay",
        "autosize": false,
        "width": 500,
        "height": 500
       },
       "config": {
        "plotlyServerURL": "https://plot.ly"
       }
      },
      "text/html": "<div>                            <div id=\"89cdec73-64a7-46b8-a270-7d3f75ab8d74\" class=\"plotly-graph-div\" style=\"height:500px; width:500px;\"></div>            <script type=\"text/javascript\">                require([\"plotly\"], function(Plotly) {                    window.PLOTLYENV=window.PLOTLYENV || {};                                    if (document.getElementById(\"89cdec73-64a7-46b8-a270-7d3f75ab8d74\")) {                    Plotly.newPlot(                        \"89cdec73-64a7-46b8-a270-7d3f75ab8d74\",                        [{\"alignmentgroup\":\"True\",\"hovertemplate\":\"Continent=%{x}<br>Happyness=%{y}<extra></extra>\",\"legendgroup\":\"Asia\",\"marker\":{\"color\":\"#636efa\"},\"name\":\"Asia\",\"notched\":false,\"offsetgroup\":\"Asia\",\"orientation\":\"v\",\"showlegend\":true,\"x\":[\"Asia\",\"Asia\",\"Asia\",\"Asia\",\"Asia\",\"Asia\",\"Asia\",\"Asia\",\"Asia\",\"Asia\",\"Asia\",\"Asia\",\"Asia\",\"Asia\",\"Asia\",\"Asia\",\"Asia\",\"Asia\",\"Asia\",\"Asia\",\"Asia\",\"Asia\",\"Asia\",\"Asia\",\"Asia\",\"Asia\",\"Asia\",\"Asia\",\"Asia\",\"Asia\",\"Asia\",\"Asia\",\"Asia\",\"Asia\",\"Asia\",\"Asia\",\"Asia\",\"Asia\",\"Asia\",\"Asia\",\"Asia\",\"Asia\",\"Asia\",\"Asia\",\"Asia\",\"Asia\",\"Asia\",\"Asia\",\"Asia\",\"Asia\",\"Asia\",\"Asia\",\"Asia\",\"Asia\",\"Asia\",\"Asia\",\"Asia\",\"Asia\",\"Asia\",\"Asia\",\"Asia\",\"Asia\",\"Asia\",\"Asia\",\"Asia\",\"Asia\",\"Asia\",\"Asia\",\"Asia\",\"Asia\",\"Asia\",\"Asia\",\"Asia\",\"Asia\",\"Asia\",\"Asia\",\"Asia\",\"Asia\",\"Asia\",\"Asia\",\"Asia\",\"Asia\",\"Asia\",\"Asia\",\"Asia\",\"Asia\",\"Asia\",\"Asia\",\"Asia\",\"Asia\"],\"x0\":\" \",\"xaxis\":\"x\",\"y\":[3.203,3.632,4.559,4.321,5.208,5.201,6.199,6.105,4.456,4.5,5.082,5.082,4.7,4.433,5.191,5.246,6.046,5.762,4.519,4.34,5.43,5.43,4.015,4.19,5.192,5.093,4.548,4.707,4.437,4.456,7.139,6.814,5.886,5.915,4.906,5.161,5.809,5.79,6.021,6.083,5.261,5.131,4.796,4.623,5.197,5.358,5.339,6.322,5.285,5.125,4.36,4.308,4.913,4.88,5.718,5.835,5.653,5.472,5.631,5.524,6.374,6.374,6.375,6.371,6.262,6.343,5.895,5.875,4.366,4.471,3.462,3.462,6.446,6.441,5.467,5.199,6.008,6.072,5.373,5.483,5.247,5.636,6.825,6.774,6.174,6.096,5.175,5.103,3.38,3.355],\"y0\":\" \",\"yaxis\":\"y\",\"type\":\"box\"},{\"alignmentgroup\":\"True\",\"hovertemplate\":\"Continent=%{x}<br>Happyness=%{y}<extra></extra>\",\"legendgroup\":\"Europe\",\"marker\":{\"color\":\"#EF553B\"},\"name\":\"Europe\",\"notched\":false,\"offsetgroup\":\"Europe\",\"orientation\":\"v\",\"showlegend\":true,\"x\":[\"Europe\",\"Europe\",\"Europe\",\"Europe\",\"Europe\",\"Europe\",\"Europe\",\"Europe\",\"Europe\",\"Europe\",\"Europe\",\"Europe\",\"Europe\",\"Europe\",\"Europe\",\"Europe\",\"Europe\",\"Europe\",\"Europe\",\"Europe\",\"Europe\",\"Europe\",\"Europe\",\"Europe\",\"Europe\",\"Europe\",\"Europe\",\"Europe\",\"Europe\",\"Europe\",\"Europe\",\"Europe\",\"Europe\",\"Europe\",\"Europe\",\"Europe\",\"Europe\",\"Europe\",\"Europe\",\"Europe\",\"Europe\",\"Europe\",\"Europe\",\"Europe\",\"Europe\",\"Europe\",\"Europe\",\"Europe\",\"Europe\",\"Europe\",\"Europe\",\"Europe\",\"Europe\",\"Europe\",\"Europe\",\"Europe\",\"Europe\",\"Europe\",\"Europe\",\"Europe\",\"Europe\",\"Europe\",\"Europe\",\"Europe\",\"Europe\",\"Europe\",\"Europe\",\"Europe\",\"Europe\",\"Europe\",\"Europe\",\"Europe\",\"Europe\",\"Europe\",\"Europe\",\"Europe\",\"Europe\",\"Europe\"],\"x0\":\" \",\"xaxis\":\"x\",\"y\":[4.719,4.586,7.246,7.139,5.323,5.483,6.923,6.927,5.386,5.129,5.011,4.933,5.432,5.321,6.852,6.711,7.6,7.555,5.893,5.739,7.769,7.632,6.592,6.489,6.985,6.965,5.287,5.358,5.758,5.62,7.494,7.495,7.021,6.977,6.223,6.0,5.94,5.933,6.149,5.952,7.09,6.91,5.185,6.726,6.627,5.529,5.64,5.523,5.347,7.488,7.441,5.274,7.554,7.594,6.182,6.123,5.693,5.41,6.07,5.945,5.648,5.81,5.603,5.398,6.198,6.173,6.118,5.948,6.354,6.31,7.343,7.314,7.48,7.487,4.332,4.103,7.054,7.19],\"y0\":\" \",\"yaxis\":\"y\",\"type\":\"box\"},{\"alignmentgroup\":\"True\",\"hovertemplate\":\"Continent=%{x}<br>Happyness=%{y}<extra></extra>\",\"legendgroup\":\"Africa\",\"marker\":{\"color\":\"#00cc96\"},\"name\":\"Africa\",\"notched\":false,\"offsetgroup\":\"Africa\",\"orientation\":\"v\",\"showlegend\":true,\"x\":[\"Africa\",\"Africa\",\"Africa\",\"Africa\",\"Africa\",\"Africa\",\"Africa\",\"Africa\",\"Africa\",\"Africa\",\"Africa\",\"Africa\",\"Africa\",\"Africa\",\"Africa\",\"Africa\",\"Africa\",\"Africa\",\"Africa\",\"Africa\",\"Africa\",\"Africa\",\"Africa\",\"Africa\",\"Africa\",\"Africa\",\"Africa\",\"Africa\",\"Africa\",\"Africa\",\"Africa\",\"Africa\",\"Africa\",\"Africa\",\"Africa\",\"Africa\",\"Africa\",\"Africa\",\"Africa\",\"Africa\",\"Africa\",\"Africa\",\"Africa\",\"Africa\",\"Africa\",\"Africa\",\"Africa\",\"Africa\",\"Africa\",\"Africa\",\"Africa\",\"Africa\",\"Africa\",\"Africa\",\"Africa\",\"Africa\",\"Africa\",\"Africa\",\"Africa\",\"Africa\",\"Africa\",\"Africa\",\"Africa\",\"Africa\",\"Africa\",\"Africa\",\"Africa\",\"Africa\",\"Africa\",\"Africa\",\"Africa\",\"Africa\",\"Africa\",\"Africa\",\"Africa\",\"Africa\",\"Africa\",\"Africa\",\"Africa\",\"Africa\",\"Africa\",\"Africa\",\"Africa\",\"Africa\",\"Africa\"],\"x0\":\" \",\"xaxis\":\"x\",\"y\":[5.211,5.295,3.795,4.883,4.141,3.488,3.59,4.587,4.424,3.775,2.905,5.044,4.975,3.083,3.083,4.35,4.301,3.973,4.166,4.419,4.286,4.35,4.799,4.758,4.516,4.996,4.657,4.534,3.964,4.944,4.671,4.509,4.41,3.802,3.808,3.975,3.495,5.525,5.566,3.933,3.774,3.41,3.587,4.39,4.447,4.49,4.356,5.888,5.891,5.208,5.254,4.466,4.417,4.639,4.441,4.628,4.166,5.265,5.155,3.334,3.408,4.681,4.631,4.374,4.571,4.668,4.982,4.722,4.724,2.853,3.254,4.139,4.212,3.231,3.303,4.085,3.999,4.461,4.592,4.189,4.161,4.107,4.377,3.663,3.692],\"y0\":\" \",\"yaxis\":\"y\",\"type\":\"box\"},{\"alignmentgroup\":\"True\",\"hovertemplate\":\"Continent=%{x}<br>Happyness=%{y}<extra></extra>\",\"legendgroup\":\"South America\",\"marker\":{\"color\":\"#ab63fa\"},\"name\":\"South America\",\"notched\":false,\"offsetgroup\":\"South America\",\"orientation\":\"v\",\"showlegend\":true,\"x\":[\"South America\",\"South America\",\"South America\",\"South America\",\"South America\",\"South America\",\"South America\",\"South America\",\"South America\",\"South America\",\"South America\",\"South America\",\"South America\",\"South America\",\"South America\",\"South America\",\"South America\",\"South America\",\"South America\",\"South America\"],\"x0\":\" \",\"xaxis\":\"x\",\"y\":[6.086,6.388,5.779,5.752,6.3,6.419,6.444,6.476,6.125,6.26,6.028,5.973,5.743,5.681,5.697,5.663,6.293,6.379,4.707,4.806],\"y0\":\" \",\"yaxis\":\"y\",\"type\":\"box\"},{\"alignmentgroup\":\"True\",\"hovertemplate\":\"Continent=%{x}<br>Happyness=%{y}<extra></extra>\",\"legendgroup\":\"Oceania\",\"marker\":{\"color\":\"#FFA15A\"},\"name\":\"Oceania\",\"notched\":false,\"offsetgroup\":\"Oceania\",\"orientation\":\"v\",\"showlegend\":true,\"x\":[\"Oceania\",\"Oceania\",\"Oceania\",\"Oceania\"],\"x0\":\" \",\"xaxis\":\"x\",\"y\":[7.228,7.272,7.307,7.324],\"y0\":\" \",\"yaxis\":\"y\",\"type\":\"box\"},{\"alignmentgroup\":\"True\",\"hovertemplate\":\"Continent=%{x}<br>Happyness=%{y}<extra></extra>\",\"legendgroup\":\"North America\",\"marker\":{\"color\":\"#19d3f3\"},\"name\":\"North America\",\"notched\":false,\"offsetgroup\":\"North America\",\"orientation\":\"v\",\"showlegend\":true,\"x\":[\"North America\",\"North America\",\"North America\",\"North America\",\"North America\",\"North America\",\"North America\",\"North America\",\"North America\",\"North America\",\"North America\",\"North America\",\"North America\",\"North America\",\"North America\",\"North America\",\"North America\",\"North America\",\"North America\",\"North America\",\"North America\",\"North America\",\"North America\",\"North America\",\"North America\"],\"x0\":\" \",\"xaxis\":\"x\",\"y\":[5.956,7.278,7.328,7.167,7.072,5.425,5.302,6.253,6.167,6.436,6.382,3.597,3.582,5.86,5.504,5.89,5.89,6.595,6.488,6.105,6.141,6.321,6.43,6.892,6.886],\"y0\":\" \",\"yaxis\":\"y\",\"type\":\"box\"}],                        {\"template\":{\"data\":{\"histogram2dcontour\":[{\"type\":\"histogram2dcontour\",\"colorbar\":{\"outlinewidth\":0,\"ticks\":\"\"},\"colorscale\":[[0.0,\"#0d0887\"],[0.1111111111111111,\"#46039f\"],[0.2222222222222222,\"#7201a8\"],[0.3333333333333333,\"#9c179e\"],[0.4444444444444444,\"#bd3786\"],[0.5555555555555556,\"#d8576b\"],[0.6666666666666666,\"#ed7953\"],[0.7777777777777778,\"#fb9f3a\"],[0.8888888888888888,\"#fdca26\"],[1.0,\"#f0f921\"]]}],\"choropleth\":[{\"type\":\"choropleth\",\"colorbar\":{\"outlinewidth\":0,\"ticks\":\"\"}}],\"histogram2d\":[{\"type\":\"histogram2d\",\"colorbar\":{\"outlinewidth\":0,\"ticks\":\"\"},\"colorscale\":[[0.0,\"#0d0887\"],[0.1111111111111111,\"#46039f\"],[0.2222222222222222,\"#7201a8\"],[0.3333333333333333,\"#9c179e\"],[0.4444444444444444,\"#bd3786\"],[0.5555555555555556,\"#d8576b\"],[0.6666666666666666,\"#ed7953\"],[0.7777777777777778,\"#fb9f3a\"],[0.8888888888888888,\"#fdca26\"],[1.0,\"#f0f921\"]]}],\"heatmap\":[{\"type\":\"heatmap\",\"colorbar\":{\"outlinewidth\":0,\"ticks\":\"\"},\"colorscale\":[[0.0,\"#0d0887\"],[0.1111111111111111,\"#46039f\"],[0.2222222222222222,\"#7201a8\"],[0.3333333333333333,\"#9c179e\"],[0.4444444444444444,\"#bd3786\"],[0.5555555555555556,\"#d8576b\"],[0.6666666666666666,\"#ed7953\"],[0.7777777777777778,\"#fb9f3a\"],[0.8888888888888888,\"#fdca26\"],[1.0,\"#f0f921\"]]}],\"heatmapgl\":[{\"type\":\"heatmapgl\",\"colorbar\":{\"outlinewidth\":0,\"ticks\":\"\"},\"colorscale\":[[0.0,\"#0d0887\"],[0.1111111111111111,\"#46039f\"],[0.2222222222222222,\"#7201a8\"],[0.3333333333333333,\"#9c179e\"],[0.4444444444444444,\"#bd3786\"],[0.5555555555555556,\"#d8576b\"],[0.6666666666666666,\"#ed7953\"],[0.7777777777777778,\"#fb9f3a\"],[0.8888888888888888,\"#fdca26\"],[1.0,\"#f0f921\"]]}],\"contourcarpet\":[{\"type\":\"contourcarpet\",\"colorbar\":{\"outlinewidth\":0,\"ticks\":\"\"}}],\"contour\":[{\"type\":\"contour\",\"colorbar\":{\"outlinewidth\":0,\"ticks\":\"\"},\"colorscale\":[[0.0,\"#0d0887\"],[0.1111111111111111,\"#46039f\"],[0.2222222222222222,\"#7201a8\"],[0.3333333333333333,\"#9c179e\"],[0.4444444444444444,\"#bd3786\"],[0.5555555555555556,\"#d8576b\"],[0.6666666666666666,\"#ed7953\"],[0.7777777777777778,\"#fb9f3a\"],[0.8888888888888888,\"#fdca26\"],[1.0,\"#f0f921\"]]}],\"surface\":[{\"type\":\"surface\",\"colorbar\":{\"outlinewidth\":0,\"ticks\":\"\"},\"colorscale\":[[0.0,\"#0d0887\"],[0.1111111111111111,\"#46039f\"],[0.2222222222222222,\"#7201a8\"],[0.3333333333333333,\"#9c179e\"],[0.4444444444444444,\"#bd3786\"],[0.5555555555555556,\"#d8576b\"],[0.6666666666666666,\"#ed7953\"],[0.7777777777777778,\"#fb9f3a\"],[0.8888888888888888,\"#fdca26\"],[1.0,\"#f0f921\"]]}],\"mesh3d\":[{\"type\":\"mesh3d\",\"colorbar\":{\"outlinewidth\":0,\"ticks\":\"\"}}],\"scatter\":[{\"fillpattern\":{\"fillmode\":\"overlay\",\"size\":10,\"solidity\":0.2},\"type\":\"scatter\"}],\"parcoords\":[{\"type\":\"parcoords\",\"line\":{\"colorbar\":{\"outlinewidth\":0,\"ticks\":\"\"}}}],\"scatterpolargl\":[{\"type\":\"scatterpolargl\",\"marker\":{\"colorbar\":{\"outlinewidth\":0,\"ticks\":\"\"}}}],\"bar\":[{\"error_x\":{\"color\":\"#2a3f5f\"},\"error_y\":{\"color\":\"#2a3f5f\"},\"marker\":{\"line\":{\"color\":\"#E5ECF6\",\"width\":0.5},\"pattern\":{\"fillmode\":\"overlay\",\"size\":10,\"solidity\":0.2}},\"type\":\"bar\"}],\"scattergeo\":[{\"type\":\"scattergeo\",\"marker\":{\"colorbar\":{\"outlinewidth\":0,\"ticks\":\"\"}}}],\"scatterpolar\":[{\"type\":\"scatterpolar\",\"marker\":{\"colorbar\":{\"outlinewidth\":0,\"ticks\":\"\"}}}],\"histogram\":[{\"marker\":{\"pattern\":{\"fillmode\":\"overlay\",\"size\":10,\"solidity\":0.2}},\"type\":\"histogram\"}],\"scattergl\":[{\"type\":\"scattergl\",\"marker\":{\"colorbar\":{\"outlinewidth\":0,\"ticks\":\"\"}}}],\"scatter3d\":[{\"type\":\"scatter3d\",\"line\":{\"colorbar\":{\"outlinewidth\":0,\"ticks\":\"\"}},\"marker\":{\"colorbar\":{\"outlinewidth\":0,\"ticks\":\"\"}}}],\"scattermapbox\":[{\"type\":\"scattermapbox\",\"marker\":{\"colorbar\":{\"outlinewidth\":0,\"ticks\":\"\"}}}],\"scatterternary\":[{\"type\":\"scatterternary\",\"marker\":{\"colorbar\":{\"outlinewidth\":0,\"ticks\":\"\"}}}],\"scattercarpet\":[{\"type\":\"scattercarpet\",\"marker\":{\"colorbar\":{\"outlinewidth\":0,\"ticks\":\"\"}}}],\"carpet\":[{\"aaxis\":{\"endlinecolor\":\"#2a3f5f\",\"gridcolor\":\"white\",\"linecolor\":\"white\",\"minorgridcolor\":\"white\",\"startlinecolor\":\"#2a3f5f\"},\"baxis\":{\"endlinecolor\":\"#2a3f5f\",\"gridcolor\":\"white\",\"linecolor\":\"white\",\"minorgridcolor\":\"white\",\"startlinecolor\":\"#2a3f5f\"},\"type\":\"carpet\"}],\"table\":[{\"cells\":{\"fill\":{\"color\":\"#EBF0F8\"},\"line\":{\"color\":\"white\"}},\"header\":{\"fill\":{\"color\":\"#C8D4E3\"},\"line\":{\"color\":\"white\"}},\"type\":\"table\"}],\"barpolar\":[{\"marker\":{\"line\":{\"color\":\"#E5ECF6\",\"width\":0.5},\"pattern\":{\"fillmode\":\"overlay\",\"size\":10,\"solidity\":0.2}},\"type\":\"barpolar\"}],\"pie\":[{\"automargin\":true,\"type\":\"pie\"}]},\"layout\":{\"autotypenumbers\":\"strict\",\"colorway\":[\"#636efa\",\"#EF553B\",\"#00cc96\",\"#ab63fa\",\"#FFA15A\",\"#19d3f3\",\"#FF6692\",\"#B6E880\",\"#FF97FF\",\"#FECB52\"],\"font\":{\"color\":\"#2a3f5f\"},\"hovermode\":\"closest\",\"hoverlabel\":{\"align\":\"left\"},\"paper_bgcolor\":\"white\",\"plot_bgcolor\":\"#E5ECF6\",\"polar\":{\"bgcolor\":\"#E5ECF6\",\"angularaxis\":{\"gridcolor\":\"white\",\"linecolor\":\"white\",\"ticks\":\"\"},\"radialaxis\":{\"gridcolor\":\"white\",\"linecolor\":\"white\",\"ticks\":\"\"}},\"ternary\":{\"bgcolor\":\"#E5ECF6\",\"aaxis\":{\"gridcolor\":\"white\",\"linecolor\":\"white\",\"ticks\":\"\"},\"baxis\":{\"gridcolor\":\"white\",\"linecolor\":\"white\",\"ticks\":\"\"},\"caxis\":{\"gridcolor\":\"white\",\"linecolor\":\"white\",\"ticks\":\"\"}},\"coloraxis\":{\"colorbar\":{\"outlinewidth\":0,\"ticks\":\"\"}},\"colorscale\":{\"sequential\":[[0.0,\"#0d0887\"],[0.1111111111111111,\"#46039f\"],[0.2222222222222222,\"#7201a8\"],[0.3333333333333333,\"#9c179e\"],[0.4444444444444444,\"#bd3786\"],[0.5555555555555556,\"#d8576b\"],[0.6666666666666666,\"#ed7953\"],[0.7777777777777778,\"#fb9f3a\"],[0.8888888888888888,\"#fdca26\"],[1.0,\"#f0f921\"]],\"sequentialminus\":[[0.0,\"#0d0887\"],[0.1111111111111111,\"#46039f\"],[0.2222222222222222,\"#7201a8\"],[0.3333333333333333,\"#9c179e\"],[0.4444444444444444,\"#bd3786\"],[0.5555555555555556,\"#d8576b\"],[0.6666666666666666,\"#ed7953\"],[0.7777777777777778,\"#fb9f3a\"],[0.8888888888888888,\"#fdca26\"],[1.0,\"#f0f921\"]],\"diverging\":[[0,\"#8e0152\"],[0.1,\"#c51b7d\"],[0.2,\"#de77ae\"],[0.3,\"#f1b6da\"],[0.4,\"#fde0ef\"],[0.5,\"#f7f7f7\"],[0.6,\"#e6f5d0\"],[0.7,\"#b8e186\"],[0.8,\"#7fbc41\"],[0.9,\"#4d9221\"],[1,\"#276419\"]]},\"xaxis\":{\"gridcolor\":\"white\",\"linecolor\":\"white\",\"ticks\":\"\",\"title\":{\"standoff\":15},\"zerolinecolor\":\"white\",\"automargin\":true,\"zerolinewidth\":2},\"yaxis\":{\"gridcolor\":\"white\",\"linecolor\":\"white\",\"ticks\":\"\",\"title\":{\"standoff\":15},\"zerolinecolor\":\"white\",\"automargin\":true,\"zerolinewidth\":2},\"scene\":{\"xaxis\":{\"backgroundcolor\":\"#E5ECF6\",\"gridcolor\":\"white\",\"linecolor\":\"white\",\"showbackground\":true,\"ticks\":\"\",\"zerolinecolor\":\"white\",\"gridwidth\":2},\"yaxis\":{\"backgroundcolor\":\"#E5ECF6\",\"gridcolor\":\"white\",\"linecolor\":\"white\",\"showbackground\":true,\"ticks\":\"\",\"zerolinecolor\":\"white\",\"gridwidth\":2},\"zaxis\":{\"backgroundcolor\":\"#E5ECF6\",\"gridcolor\":\"white\",\"linecolor\":\"white\",\"showbackground\":true,\"ticks\":\"\",\"zerolinecolor\":\"white\",\"gridwidth\":2}},\"shapedefaults\":{\"line\":{\"color\":\"#2a3f5f\"}},\"annotationdefaults\":{\"arrowcolor\":\"#2a3f5f\",\"arrowhead\":0,\"arrowwidth\":1},\"geo\":{\"bgcolor\":\"white\",\"landcolor\":\"#E5ECF6\",\"subunitcolor\":\"white\",\"showland\":true,\"showlakes\":true,\"lakecolor\":\"white\"},\"title\":{\"x\":0.05},\"mapbox\":{\"style\":\"light\"}}},\"xaxis\":{\"anchor\":\"y\",\"domain\":[0.0,1.0],\"title\":{\"text\":\"Continent\"},\"categoryorder\":\"array\",\"categoryarray\":[\"Asia\",\"Europe\",\"Africa\",\"South America\",\"Oceania\",\"North America\",null]},\"yaxis\":{\"anchor\":\"x\",\"domain\":[0.0,1.0],\"title\":{\"text\":\"Happyness\"}},\"legend\":{\"title\":{\"text\":\"Continent\"},\"tracegroupgap\":0},\"title\":{\"text\":\"Happiness of the Continents\"},\"boxmode\":\"overlay\",\"autosize\":false,\"width\":500,\"height\":500},                        {\"responsive\": true}                    ).then(function(){\n                            \nvar gd = document.getElementById('89cdec73-64a7-46b8-a270-7d3f75ab8d74');\nvar x = new MutationObserver(function (mutations, observer) {{\n        var display = window.getComputedStyle(gd).display;\n        if (!display || display === 'none') {{\n            console.log([gd, 'removed!']);\n            Plotly.purge(gd);\n            observer.disconnect();\n        }}\n}});\n\n// Listen for the removal of the full notebook cells\nvar notebookContainer = gd.closest('#notebook-container');\nif (notebookContainer) {{\n    x.observe(notebookContainer, {childList: true});\n}}\n\n// Listen for the clearing of the current output cell\nvar outputEl = gd.closest('.output');\nif (outputEl) {{\n    x.observe(outputEl, {childList: true});\n}}\n\n                        })                };                });            </script>        </div>"
     },
     "metadata": {},
     "output_type": "display_data"
    }
   ],
   "source": [
    "fig_box = px.box(data3, x='continent', y='Score', color='continent',\n",
    "                 title='Happiness of the Continents',\n",
    "                 labels={'continent': 'Continent', 'Score': 'Happyness'})\n",
    "fig_box.update_layout(\n",
    "    autosize=False,\n",
    "    width=500,\n",
    "    height=500,)\n",
    "fig_box.show()"
   ],
   "metadata": {
    "collapsed": false
   }
  },
  {
   "cell_type": "code",
   "execution_count": 58,
   "outputs": [
    {
     "data": {
      "application/vnd.plotly.v1+json": {
       "data": [
        {
         "coloraxis": "coloraxis",
         "geo": "geo",
         "hovertemplate": "Country or region=%{location}<br>Score=%{z}<extra></extra>",
         "locationmode": "country names",
         "locations": [
          "Afghanistan",
          "Afghanistan",
          "Albania",
          "Albania",
          "Algeria",
          "Algeria",
          "Angola",
          "Argentina",
          "Argentina",
          "Armenia",
          "Armenia",
          "Australia",
          "Australia",
          "Austria",
          "Austria",
          "Azerbaijan",
          "Azerbaijan",
          "Bahrain",
          "Bahrain",
          "Bangladesh",
          "Bangladesh",
          "Belarus",
          "Belarus",
          "Belgium",
          "Belgium",
          "Belize",
          "Benin",
          "Benin",
          "Bhutan",
          "Bhutan",
          "Bolivia",
          "Bolivia",
          "Bosnia and Herzegovina",
          "Bosnia and Herzegovina",
          "Botswana",
          "Botswana",
          "Brazil",
          "Brazil",
          "Bulgaria",
          "Bulgaria",
          "Burkina Faso",
          "Burkina Faso",
          "Burundi",
          "Burundi",
          "Cambodia",
          "Cambodia",
          "Cameroon",
          "Cameroon",
          "Canada",
          "Canada",
          "Central African Republic",
          "Central African Republic",
          "Chad",
          "Chad",
          "Chile",
          "Chile",
          "China",
          "China",
          "Colombia",
          "Colombia",
          "Comoros",
          "Congo (Brazzaville)",
          "Congo (Brazzaville)",
          "Congo (Kinshasa)",
          "Congo (Kinshasa)",
          "Costa Rica",
          "Costa Rica",
          "Croatia",
          "Croatia",
          "Cyprus",
          "Cyprus",
          "Czech Republic",
          "Czech Republic",
          "Denmark",
          "Denmark",
          "Dominican Republic",
          "Dominican Republic",
          "Ecuador",
          "Ecuador",
          "Egypt",
          "Egypt",
          "El Salvador",
          "El Salvador",
          "Estonia",
          "Estonia",
          "Ethiopia",
          "Ethiopia",
          "Finland",
          "Finland",
          "France",
          "France",
          "Gabon",
          "Gabon",
          "Gambia",
          "Georgia",
          "Georgia",
          "Germany",
          "Germany",
          "Ghana",
          "Ghana",
          "Greece",
          "Greece",
          "Guatemala",
          "Guatemala",
          "Guinea",
          "Guinea",
          "Haiti",
          "Haiti",
          "Honduras",
          "Honduras",
          "Hong Kong",
          "Hong Kong",
          "Hungary",
          "Hungary",
          "Iceland",
          "Iceland",
          "India",
          "India",
          "Indonesia",
          "Indonesia",
          "Iran",
          "Iran",
          "Iraq",
          "Iraq",
          "Ireland",
          "Ireland",
          "Israel",
          "Israel",
          "Italy",
          "Italy",
          "Ivory Coast",
          "Ivory Coast",
          "Jamaica",
          "Jamaica",
          "Japan",
          "Japan",
          "Jordan",
          "Jordan",
          "Kazakhstan",
          "Kazakhstan",
          "Kenya",
          "Kenya",
          "Kosovo",
          "Kosovo",
          "Kuwait",
          "Kuwait",
          "Kyrgyzstan",
          "Kyrgyzstan",
          "Laos",
          "Laos",
          "Latvia",
          "Latvia",
          "Lebanon",
          "Lebanon",
          "Lesotho",
          "Lesotho",
          "Liberia",
          "Liberia",
          "Libya",
          "Libya",
          "Lithuania",
          "Lithuania",
          "Luxembourg",
          "Luxembourg",
          "Macedonia",
          "Madagascar",
          "Madagascar",
          "Malawi",
          "Malawi",
          "Malaysia",
          "Malaysia",
          "Mali",
          "Mali",
          "Malta",
          "Malta",
          "Mauritania",
          "Mauritania",
          "Mauritius",
          "Mauritius",
          "Mexico",
          "Mexico",
          "Moldova",
          "Moldova",
          "Mongolia",
          "Mongolia",
          "Montenegro",
          "Montenegro",
          "Morocco",
          "Morocco",
          "Mozambique",
          "Mozambique",
          "Myanmar",
          "Myanmar",
          "Namibia",
          "Namibia",
          "Nepal",
          "Nepal",
          "Netherlands",
          "Netherlands",
          "New Zealand",
          "New Zealand",
          "Nicaragua",
          "Nicaragua",
          "Niger",
          "Niger",
          "Nigeria",
          "Nigeria",
          "North Macedonia",
          "Northern Cyprus",
          "Northern Cyprus",
          "Norway",
          "Norway",
          "Pakistan",
          "Pakistan",
          "Palestinian Territories",
          "Palestinian Territories",
          "Panama",
          "Panama",
          "Paraguay",
          "Paraguay",
          "Peru",
          "Peru",
          "Philippines",
          "Philippines",
          "Poland",
          "Poland",
          "Portugal",
          "Portugal",
          "Qatar",
          "Qatar",
          "Romania",
          "Romania",
          "Russia",
          "Russia",
          "Rwanda",
          "Rwanda",
          "Saudi Arabia",
          "Saudi Arabia",
          "Senegal",
          "Senegal",
          "Serbia",
          "Serbia",
          "Sierra Leone",
          "Sierra Leone",
          "Singapore",
          "Singapore",
          "Slovakia",
          "Slovakia",
          "Slovenia",
          "Slovenia",
          "Somalia",
          "Somalia",
          "South Africa",
          "South Africa",
          "South Korea",
          "South Korea",
          "South Sudan",
          "South Sudan",
          "Spain",
          "Spain",
          "Sri Lanka",
          "Sri Lanka",
          "Sudan",
          "Swaziland",
          "Sweden",
          "Sweden",
          "Switzerland",
          "Switzerland",
          "Syria",
          "Syria",
          "Taiwan",
          "Taiwan",
          "Tajikistan",
          "Tajikistan",
          "Tanzania",
          "Tanzania",
          "Thailand",
          "Thailand",
          "Togo",
          "Togo",
          "Trinidad & Tobago",
          "Trinidad & Tobago",
          "Tunisia",
          "Tunisia",
          "Turkey",
          "Turkey",
          "Turkmenistan",
          "Turkmenistan",
          "Uganda",
          "Uganda",
          "Ukraine",
          "Ukraine",
          "United Arab Emirates",
          "United Arab Emirates",
          "United Kingdom",
          "United Kingdom",
          "United States",
          "United States",
          "Uruguay",
          "Uruguay",
          "Uzbekistan",
          "Uzbekistan",
          "Venezuela",
          "Venezuela",
          "Vietnam",
          "Vietnam",
          "Yemen",
          "Yemen",
          "Zambia",
          "Zambia",
          "Zimbabwe",
          "Zimbabwe"
         ],
         "name": "",
         "z": [
          3.203,
          3.632,
          4.719,
          4.586,
          5.211,
          5.295,
          3.795,
          6.086,
          6.388,
          4.559,
          4.321,
          7.228,
          7.272,
          7.246,
          7.139,
          5.208,
          5.201,
          6.199,
          6.105,
          4.456,
          4.5,
          5.323,
          5.483,
          6.923,
          6.927,
          5.956,
          4.883,
          4.141,
          5.082,
          5.082,
          5.779,
          5.752,
          5.386,
          5.129,
          3.488,
          3.59,
          6.3,
          6.419,
          5.011,
          4.933,
          4.587,
          4.424,
          3.775,
          2.905,
          4.7,
          4.433,
          5.044,
          4.975,
          7.278,
          7.328,
          3.083,
          3.083,
          4.35,
          4.301,
          6.444,
          6.476,
          5.191,
          5.246,
          6.125,
          6.26,
          3.973,
          4.812,
          4.559,
          4.418,
          4.245,
          7.167,
          7.072,
          5.432,
          5.321,
          6.046,
          5.762,
          6.852,
          6.711,
          7.6,
          7.555,
          5.425,
          5.302,
          6.028,
          5.973,
          4.166,
          4.419,
          6.253,
          6.167,
          5.893,
          5.739,
          4.286,
          4.35,
          7.769,
          7.632,
          6.592,
          6.489,
          4.799,
          4.758,
          4.516,
          4.519,
          4.34,
          6.985,
          6.965,
          4.996,
          4.657,
          5.287,
          5.358,
          6.436,
          6.382,
          4.534,
          3.964,
          3.597,
          3.582,
          5.86,
          5.504,
          5.43,
          5.43,
          5.758,
          5.62,
          7.494,
          7.495,
          4.015,
          4.19,
          5.192,
          5.093,
          4.548,
          4.707,
          4.437,
          4.456,
          7.021,
          6.977,
          7.139,
          6.814,
          6.223,
          6.0,
          4.944,
          4.671,
          5.89,
          5.89,
          5.886,
          5.915,
          4.906,
          5.161,
          5.809,
          5.79,
          4.509,
          4.41,
          6.1,
          5.662,
          6.021,
          6.083,
          5.261,
          5.131,
          4.796,
          4.623,
          5.94,
          5.933,
          5.197,
          5.358,
          3.802,
          3.808,
          3.975,
          3.495,
          5.525,
          5.566,
          6.149,
          5.952,
          7.09,
          6.91,
          5.185,
          3.933,
          3.774,
          3.41,
          3.587,
          5.339,
          6.322,
          4.39,
          4.447,
          6.726,
          6.627,
          4.49,
          4.356,
          5.888,
          5.891,
          6.595,
          6.488,
          5.529,
          5.64,
          5.285,
          5.125,
          5.523,
          5.347,
          5.208,
          5.254,
          4.466,
          4.417,
          4.36,
          4.308,
          4.639,
          4.441,
          4.913,
          4.88,
          7.488,
          7.441,
          7.307,
          7.324,
          6.105,
          6.141,
          4.628,
          4.166,
          5.265,
          5.155,
          5.274,
          5.718,
          5.835,
          7.554,
          7.594,
          5.653,
          5.472,
          4.696,
          4.743,
          6.321,
          6.43,
          5.743,
          5.681,
          5.697,
          5.663,
          5.631,
          5.524,
          6.182,
          6.123,
          5.693,
          5.41,
          6.374,
          6.374,
          6.07,
          5.945,
          5.648,
          5.81,
          3.334,
          3.408,
          6.375,
          6.371,
          4.681,
          4.631,
          5.603,
          5.398,
          4.374,
          4.571,
          6.262,
          6.343,
          6.198,
          6.173,
          6.118,
          5.948,
          4.668,
          4.982,
          4.722,
          4.724,
          5.895,
          5.875,
          2.853,
          3.254,
          6.354,
          6.31,
          4.366,
          4.471,
          4.139,
          4.212,
          7.343,
          7.314,
          7.48,
          7.487,
          3.462,
          3.462,
          6.446,
          6.441,
          5.467,
          5.199,
          3.231,
          3.303,
          6.008,
          6.072,
          4.085,
          3.999,
          6.192,
          6.192,
          4.461,
          4.592,
          5.373,
          5.483,
          5.247,
          5.636,
          4.189,
          4.161,
          4.332,
          4.103,
          6.825,
          6.774,
          7.054,
          7.19,
          6.892,
          6.886,
          6.293,
          6.379,
          6.174,
          6.096,
          4.707,
          4.806,
          5.175,
          5.103,
          3.38,
          3.355,
          4.107,
          4.377,
          3.663,
          3.692
         ],
         "type": "choropleth"
        }
       ],
       "layout": {
        "template": {
         "data": {
          "histogram2dcontour": [
           {
            "type": "histogram2dcontour",
            "colorbar": {
             "outlinewidth": 0,
             "ticks": ""
            },
            "colorscale": [
             [
              0.0,
              "#0d0887"
             ],
             [
              0.1111111111111111,
              "#46039f"
             ],
             [
              0.2222222222222222,
              "#7201a8"
             ],
             [
              0.3333333333333333,
              "#9c179e"
             ],
             [
              0.4444444444444444,
              "#bd3786"
             ],
             [
              0.5555555555555556,
              "#d8576b"
             ],
             [
              0.6666666666666666,
              "#ed7953"
             ],
             [
              0.7777777777777778,
              "#fb9f3a"
             ],
             [
              0.8888888888888888,
              "#fdca26"
             ],
             [
              1.0,
              "#f0f921"
             ]
            ]
           }
          ],
          "choropleth": [
           {
            "type": "choropleth",
            "colorbar": {
             "outlinewidth": 0,
             "ticks": ""
            }
           }
          ],
          "histogram2d": [
           {
            "type": "histogram2d",
            "colorbar": {
             "outlinewidth": 0,
             "ticks": ""
            },
            "colorscale": [
             [
              0.0,
              "#0d0887"
             ],
             [
              0.1111111111111111,
              "#46039f"
             ],
             [
              0.2222222222222222,
              "#7201a8"
             ],
             [
              0.3333333333333333,
              "#9c179e"
             ],
             [
              0.4444444444444444,
              "#bd3786"
             ],
             [
              0.5555555555555556,
              "#d8576b"
             ],
             [
              0.6666666666666666,
              "#ed7953"
             ],
             [
              0.7777777777777778,
              "#fb9f3a"
             ],
             [
              0.8888888888888888,
              "#fdca26"
             ],
             [
              1.0,
              "#f0f921"
             ]
            ]
           }
          ],
          "heatmap": [
           {
            "type": "heatmap",
            "colorbar": {
             "outlinewidth": 0,
             "ticks": ""
            },
            "colorscale": [
             [
              0.0,
              "#0d0887"
             ],
             [
              0.1111111111111111,
              "#46039f"
             ],
             [
              0.2222222222222222,
              "#7201a8"
             ],
             [
              0.3333333333333333,
              "#9c179e"
             ],
             [
              0.4444444444444444,
              "#bd3786"
             ],
             [
              0.5555555555555556,
              "#d8576b"
             ],
             [
              0.6666666666666666,
              "#ed7953"
             ],
             [
              0.7777777777777778,
              "#fb9f3a"
             ],
             [
              0.8888888888888888,
              "#fdca26"
             ],
             [
              1.0,
              "#f0f921"
             ]
            ]
           }
          ],
          "heatmapgl": [
           {
            "type": "heatmapgl",
            "colorbar": {
             "outlinewidth": 0,
             "ticks": ""
            },
            "colorscale": [
             [
              0.0,
              "#0d0887"
             ],
             [
              0.1111111111111111,
              "#46039f"
             ],
             [
              0.2222222222222222,
              "#7201a8"
             ],
             [
              0.3333333333333333,
              "#9c179e"
             ],
             [
              0.4444444444444444,
              "#bd3786"
             ],
             [
              0.5555555555555556,
              "#d8576b"
             ],
             [
              0.6666666666666666,
              "#ed7953"
             ],
             [
              0.7777777777777778,
              "#fb9f3a"
             ],
             [
              0.8888888888888888,
              "#fdca26"
             ],
             [
              1.0,
              "#f0f921"
             ]
            ]
           }
          ],
          "contourcarpet": [
           {
            "type": "contourcarpet",
            "colorbar": {
             "outlinewidth": 0,
             "ticks": ""
            }
           }
          ],
          "contour": [
           {
            "type": "contour",
            "colorbar": {
             "outlinewidth": 0,
             "ticks": ""
            },
            "colorscale": [
             [
              0.0,
              "#0d0887"
             ],
             [
              0.1111111111111111,
              "#46039f"
             ],
             [
              0.2222222222222222,
              "#7201a8"
             ],
             [
              0.3333333333333333,
              "#9c179e"
             ],
             [
              0.4444444444444444,
              "#bd3786"
             ],
             [
              0.5555555555555556,
              "#d8576b"
             ],
             [
              0.6666666666666666,
              "#ed7953"
             ],
             [
              0.7777777777777778,
              "#fb9f3a"
             ],
             [
              0.8888888888888888,
              "#fdca26"
             ],
             [
              1.0,
              "#f0f921"
             ]
            ]
           }
          ],
          "surface": [
           {
            "type": "surface",
            "colorbar": {
             "outlinewidth": 0,
             "ticks": ""
            },
            "colorscale": [
             [
              0.0,
              "#0d0887"
             ],
             [
              0.1111111111111111,
              "#46039f"
             ],
             [
              0.2222222222222222,
              "#7201a8"
             ],
             [
              0.3333333333333333,
              "#9c179e"
             ],
             [
              0.4444444444444444,
              "#bd3786"
             ],
             [
              0.5555555555555556,
              "#d8576b"
             ],
             [
              0.6666666666666666,
              "#ed7953"
             ],
             [
              0.7777777777777778,
              "#fb9f3a"
             ],
             [
              0.8888888888888888,
              "#fdca26"
             ],
             [
              1.0,
              "#f0f921"
             ]
            ]
           }
          ],
          "mesh3d": [
           {
            "type": "mesh3d",
            "colorbar": {
             "outlinewidth": 0,
             "ticks": ""
            }
           }
          ],
          "scatter": [
           {
            "fillpattern": {
             "fillmode": "overlay",
             "size": 10,
             "solidity": 0.2
            },
            "type": "scatter"
           }
          ],
          "parcoords": [
           {
            "type": "parcoords",
            "line": {
             "colorbar": {
              "outlinewidth": 0,
              "ticks": ""
             }
            }
           }
          ],
          "scatterpolargl": [
           {
            "type": "scatterpolargl",
            "marker": {
             "colorbar": {
              "outlinewidth": 0,
              "ticks": ""
             }
            }
           }
          ],
          "bar": [
           {
            "error_x": {
             "color": "#2a3f5f"
            },
            "error_y": {
             "color": "#2a3f5f"
            },
            "marker": {
             "line": {
              "color": "#E5ECF6",
              "width": 0.5
             },
             "pattern": {
              "fillmode": "overlay",
              "size": 10,
              "solidity": 0.2
             }
            },
            "type": "bar"
           }
          ],
          "scattergeo": [
           {
            "type": "scattergeo",
            "marker": {
             "colorbar": {
              "outlinewidth": 0,
              "ticks": ""
             }
            }
           }
          ],
          "scatterpolar": [
           {
            "type": "scatterpolar",
            "marker": {
             "colorbar": {
              "outlinewidth": 0,
              "ticks": ""
             }
            }
           }
          ],
          "histogram": [
           {
            "marker": {
             "pattern": {
              "fillmode": "overlay",
              "size": 10,
              "solidity": 0.2
             }
            },
            "type": "histogram"
           }
          ],
          "scattergl": [
           {
            "type": "scattergl",
            "marker": {
             "colorbar": {
              "outlinewidth": 0,
              "ticks": ""
             }
            }
           }
          ],
          "scatter3d": [
           {
            "type": "scatter3d",
            "line": {
             "colorbar": {
              "outlinewidth": 0,
              "ticks": ""
             }
            },
            "marker": {
             "colorbar": {
              "outlinewidth": 0,
              "ticks": ""
             }
            }
           }
          ],
          "scattermapbox": [
           {
            "type": "scattermapbox",
            "marker": {
             "colorbar": {
              "outlinewidth": 0,
              "ticks": ""
             }
            }
           }
          ],
          "scatterternary": [
           {
            "type": "scatterternary",
            "marker": {
             "colorbar": {
              "outlinewidth": 0,
              "ticks": ""
             }
            }
           }
          ],
          "scattercarpet": [
           {
            "type": "scattercarpet",
            "marker": {
             "colorbar": {
              "outlinewidth": 0,
              "ticks": ""
             }
            }
           }
          ],
          "carpet": [
           {
            "aaxis": {
             "endlinecolor": "#2a3f5f",
             "gridcolor": "white",
             "linecolor": "white",
             "minorgridcolor": "white",
             "startlinecolor": "#2a3f5f"
            },
            "baxis": {
             "endlinecolor": "#2a3f5f",
             "gridcolor": "white",
             "linecolor": "white",
             "minorgridcolor": "white",
             "startlinecolor": "#2a3f5f"
            },
            "type": "carpet"
           }
          ],
          "table": [
           {
            "cells": {
             "fill": {
              "color": "#EBF0F8"
             },
             "line": {
              "color": "white"
             }
            },
            "header": {
             "fill": {
              "color": "#C8D4E3"
             },
             "line": {
              "color": "white"
             }
            },
            "type": "table"
           }
          ],
          "barpolar": [
           {
            "marker": {
             "line": {
              "color": "#E5ECF6",
              "width": 0.5
             },
             "pattern": {
              "fillmode": "overlay",
              "size": 10,
              "solidity": 0.2
             }
            },
            "type": "barpolar"
           }
          ],
          "pie": [
           {
            "automargin": true,
            "type": "pie"
           }
          ]
         },
         "layout": {
          "autotypenumbers": "strict",
          "colorway": [
           "#636efa",
           "#EF553B",
           "#00cc96",
           "#ab63fa",
           "#FFA15A",
           "#19d3f3",
           "#FF6692",
           "#B6E880",
           "#FF97FF",
           "#FECB52"
          ],
          "font": {
           "color": "#2a3f5f"
          },
          "hovermode": "closest",
          "hoverlabel": {
           "align": "left"
          },
          "paper_bgcolor": "white",
          "plot_bgcolor": "#E5ECF6",
          "polar": {
           "bgcolor": "#E5ECF6",
           "angularaxis": {
            "gridcolor": "white",
            "linecolor": "white",
            "ticks": ""
           },
           "radialaxis": {
            "gridcolor": "white",
            "linecolor": "white",
            "ticks": ""
           }
          },
          "ternary": {
           "bgcolor": "#E5ECF6",
           "aaxis": {
            "gridcolor": "white",
            "linecolor": "white",
            "ticks": ""
           },
           "baxis": {
            "gridcolor": "white",
            "linecolor": "white",
            "ticks": ""
           },
           "caxis": {
            "gridcolor": "white",
            "linecolor": "white",
            "ticks": ""
           }
          },
          "coloraxis": {
           "colorbar": {
            "outlinewidth": 0,
            "ticks": ""
           }
          },
          "colorscale": {
           "sequential": [
            [
             0.0,
             "#0d0887"
            ],
            [
             0.1111111111111111,
             "#46039f"
            ],
            [
             0.2222222222222222,
             "#7201a8"
            ],
            [
             0.3333333333333333,
             "#9c179e"
            ],
            [
             0.4444444444444444,
             "#bd3786"
            ],
            [
             0.5555555555555556,
             "#d8576b"
            ],
            [
             0.6666666666666666,
             "#ed7953"
            ],
            [
             0.7777777777777778,
             "#fb9f3a"
            ],
            [
             0.8888888888888888,
             "#fdca26"
            ],
            [
             1.0,
             "#f0f921"
            ]
           ],
           "sequentialminus": [
            [
             0.0,
             "#0d0887"
            ],
            [
             0.1111111111111111,
             "#46039f"
            ],
            [
             0.2222222222222222,
             "#7201a8"
            ],
            [
             0.3333333333333333,
             "#9c179e"
            ],
            [
             0.4444444444444444,
             "#bd3786"
            ],
            [
             0.5555555555555556,
             "#d8576b"
            ],
            [
             0.6666666666666666,
             "#ed7953"
            ],
            [
             0.7777777777777778,
             "#fb9f3a"
            ],
            [
             0.8888888888888888,
             "#fdca26"
            ],
            [
             1.0,
             "#f0f921"
            ]
           ],
           "diverging": [
            [
             0,
             "#8e0152"
            ],
            [
             0.1,
             "#c51b7d"
            ],
            [
             0.2,
             "#de77ae"
            ],
            [
             0.3,
             "#f1b6da"
            ],
            [
             0.4,
             "#fde0ef"
            ],
            [
             0.5,
             "#f7f7f7"
            ],
            [
             0.6,
             "#e6f5d0"
            ],
            [
             0.7,
             "#b8e186"
            ],
            [
             0.8,
             "#7fbc41"
            ],
            [
             0.9,
             "#4d9221"
            ],
            [
             1,
             "#276419"
            ]
           ]
          },
          "xaxis": {
           "gridcolor": "white",
           "linecolor": "white",
           "ticks": "",
           "title": {
            "standoff": 15
           },
           "zerolinecolor": "white",
           "automargin": true,
           "zerolinewidth": 2
          },
          "yaxis": {
           "gridcolor": "white",
           "linecolor": "white",
           "ticks": "",
           "title": {
            "standoff": 15
           },
           "zerolinecolor": "white",
           "automargin": true,
           "zerolinewidth": 2
          },
          "scene": {
           "xaxis": {
            "backgroundcolor": "#E5ECF6",
            "gridcolor": "white",
            "linecolor": "white",
            "showbackground": true,
            "ticks": "",
            "zerolinecolor": "white",
            "gridwidth": 2
           },
           "yaxis": {
            "backgroundcolor": "#E5ECF6",
            "gridcolor": "white",
            "linecolor": "white",
            "showbackground": true,
            "ticks": "",
            "zerolinecolor": "white",
            "gridwidth": 2
           },
           "zaxis": {
            "backgroundcolor": "#E5ECF6",
            "gridcolor": "white",
            "linecolor": "white",
            "showbackground": true,
            "ticks": "",
            "zerolinecolor": "white",
            "gridwidth": 2
           }
          },
          "shapedefaults": {
           "line": {
            "color": "#2a3f5f"
           }
          },
          "annotationdefaults": {
           "arrowcolor": "#2a3f5f",
           "arrowhead": 0,
           "arrowwidth": 1
          },
          "geo": {
           "bgcolor": "white",
           "landcolor": "#E5ECF6",
           "subunitcolor": "white",
           "showland": true,
           "showlakes": true,
           "lakecolor": "white"
          },
          "title": {
           "x": 0.05
          },
          "mapbox": {
           "style": "light"
          }
         }
        },
        "geo": {
         "domain": {
          "x": [
           0.0,
           1.0
          ],
          "y": [
           0.0,
           1.0
          ]
         },
         "center": {}
        },
        "coloraxis": {
         "colorbar": {
          "title": {
           "text": "Score"
          }
         },
         "colorscale": [
          [
           0.0,
           "rgb(247,252,245)"
          ],
          [
           0.125,
           "rgb(229,245,224)"
          ],
          [
           0.25,
           "rgb(199,233,192)"
          ],
          [
           0.375,
           "rgb(161,217,155)"
          ],
          [
           0.5,
           "rgb(116,196,118)"
          ],
          [
           0.625,
           "rgb(65,171,93)"
          ],
          [
           0.75,
           "rgb(35,139,69)"
          ],
          [
           0.875,
           "rgb(0,109,44)"
          ],
          [
           1.0,
           "rgb(0,68,27)"
          ]
         ],
         "cmin": 2.853,
         "cmax": 7.769
        },
        "legend": {
         "tracegroupgap": 0
        },
        "margin": {
         "t": 60
        },
        "title": {
         "text": "Happiness index by region/country",
         "x": 0.5,
         "xanchor": "center"
        }
       },
       "config": {
        "plotlyServerURL": "https://plot.ly"
       }
      },
      "text/html": "<div>                            <div id=\"bd7e34ad-0142-4dc2-a4c1-e2bbd034da4c\" class=\"plotly-graph-div\" style=\"height:525px; width:100%;\"></div>            <script type=\"text/javascript\">                require([\"plotly\"], function(Plotly) {                    window.PLOTLYENV=window.PLOTLYENV || {};                                    if (document.getElementById(\"bd7e34ad-0142-4dc2-a4c1-e2bbd034da4c\")) {                    Plotly.newPlot(                        \"bd7e34ad-0142-4dc2-a4c1-e2bbd034da4c\",                        [{\"coloraxis\":\"coloraxis\",\"geo\":\"geo\",\"hovertemplate\":\"Country or region=%{location}<br>Score=%{z}<extra></extra>\",\"locationmode\":\"country names\",\"locations\":[\"Afghanistan\",\"Afghanistan\",\"Albania\",\"Albania\",\"Algeria\",\"Algeria\",\"Angola\",\"Argentina\",\"Argentina\",\"Armenia\",\"Armenia\",\"Australia\",\"Australia\",\"Austria\",\"Austria\",\"Azerbaijan\",\"Azerbaijan\",\"Bahrain\",\"Bahrain\",\"Bangladesh\",\"Bangladesh\",\"Belarus\",\"Belarus\",\"Belgium\",\"Belgium\",\"Belize\",\"Benin\",\"Benin\",\"Bhutan\",\"Bhutan\",\"Bolivia\",\"Bolivia\",\"Bosnia and Herzegovina\",\"Bosnia and Herzegovina\",\"Botswana\",\"Botswana\",\"Brazil\",\"Brazil\",\"Bulgaria\",\"Bulgaria\",\"Burkina Faso\",\"Burkina Faso\",\"Burundi\",\"Burundi\",\"Cambodia\",\"Cambodia\",\"Cameroon\",\"Cameroon\",\"Canada\",\"Canada\",\"Central African Republic\",\"Central African Republic\",\"Chad\",\"Chad\",\"Chile\",\"Chile\",\"China\",\"China\",\"Colombia\",\"Colombia\",\"Comoros\",\"Congo (Brazzaville)\",\"Congo (Brazzaville)\",\"Congo (Kinshasa)\",\"Congo (Kinshasa)\",\"Costa Rica\",\"Costa Rica\",\"Croatia\",\"Croatia\",\"Cyprus\",\"Cyprus\",\"Czech Republic\",\"Czech Republic\",\"Denmark\",\"Denmark\",\"Dominican Republic\",\"Dominican Republic\",\"Ecuador\",\"Ecuador\",\"Egypt\",\"Egypt\",\"El Salvador\",\"El Salvador\",\"Estonia\",\"Estonia\",\"Ethiopia\",\"Ethiopia\",\"Finland\",\"Finland\",\"France\",\"France\",\"Gabon\",\"Gabon\",\"Gambia\",\"Georgia\",\"Georgia\",\"Germany\",\"Germany\",\"Ghana\",\"Ghana\",\"Greece\",\"Greece\",\"Guatemala\",\"Guatemala\",\"Guinea\",\"Guinea\",\"Haiti\",\"Haiti\",\"Honduras\",\"Honduras\",\"Hong Kong\",\"Hong Kong\",\"Hungary\",\"Hungary\",\"Iceland\",\"Iceland\",\"India\",\"India\",\"Indonesia\",\"Indonesia\",\"Iran\",\"Iran\",\"Iraq\",\"Iraq\",\"Ireland\",\"Ireland\",\"Israel\",\"Israel\",\"Italy\",\"Italy\",\"Ivory Coast\",\"Ivory Coast\",\"Jamaica\",\"Jamaica\",\"Japan\",\"Japan\",\"Jordan\",\"Jordan\",\"Kazakhstan\",\"Kazakhstan\",\"Kenya\",\"Kenya\",\"Kosovo\",\"Kosovo\",\"Kuwait\",\"Kuwait\",\"Kyrgyzstan\",\"Kyrgyzstan\",\"Laos\",\"Laos\",\"Latvia\",\"Latvia\",\"Lebanon\",\"Lebanon\",\"Lesotho\",\"Lesotho\",\"Liberia\",\"Liberia\",\"Libya\",\"Libya\",\"Lithuania\",\"Lithuania\",\"Luxembourg\",\"Luxembourg\",\"Macedonia\",\"Madagascar\",\"Madagascar\",\"Malawi\",\"Malawi\",\"Malaysia\",\"Malaysia\",\"Mali\",\"Mali\",\"Malta\",\"Malta\",\"Mauritania\",\"Mauritania\",\"Mauritius\",\"Mauritius\",\"Mexico\",\"Mexico\",\"Moldova\",\"Moldova\",\"Mongolia\",\"Mongolia\",\"Montenegro\",\"Montenegro\",\"Morocco\",\"Morocco\",\"Mozambique\",\"Mozambique\",\"Myanmar\",\"Myanmar\",\"Namibia\",\"Namibia\",\"Nepal\",\"Nepal\",\"Netherlands\",\"Netherlands\",\"New Zealand\",\"New Zealand\",\"Nicaragua\",\"Nicaragua\",\"Niger\",\"Niger\",\"Nigeria\",\"Nigeria\",\"North Macedonia\",\"Northern Cyprus\",\"Northern Cyprus\",\"Norway\",\"Norway\",\"Pakistan\",\"Pakistan\",\"Palestinian Territories\",\"Palestinian Territories\",\"Panama\",\"Panama\",\"Paraguay\",\"Paraguay\",\"Peru\",\"Peru\",\"Philippines\",\"Philippines\",\"Poland\",\"Poland\",\"Portugal\",\"Portugal\",\"Qatar\",\"Qatar\",\"Romania\",\"Romania\",\"Russia\",\"Russia\",\"Rwanda\",\"Rwanda\",\"Saudi Arabia\",\"Saudi Arabia\",\"Senegal\",\"Senegal\",\"Serbia\",\"Serbia\",\"Sierra Leone\",\"Sierra Leone\",\"Singapore\",\"Singapore\",\"Slovakia\",\"Slovakia\",\"Slovenia\",\"Slovenia\",\"Somalia\",\"Somalia\",\"South Africa\",\"South Africa\",\"South Korea\",\"South Korea\",\"South Sudan\",\"South Sudan\",\"Spain\",\"Spain\",\"Sri Lanka\",\"Sri Lanka\",\"Sudan\",\"Swaziland\",\"Sweden\",\"Sweden\",\"Switzerland\",\"Switzerland\",\"Syria\",\"Syria\",\"Taiwan\",\"Taiwan\",\"Tajikistan\",\"Tajikistan\",\"Tanzania\",\"Tanzania\",\"Thailand\",\"Thailand\",\"Togo\",\"Togo\",\"Trinidad & Tobago\",\"Trinidad & Tobago\",\"Tunisia\",\"Tunisia\",\"Turkey\",\"Turkey\",\"Turkmenistan\",\"Turkmenistan\",\"Uganda\",\"Uganda\",\"Ukraine\",\"Ukraine\",\"United Arab Emirates\",\"United Arab Emirates\",\"United Kingdom\",\"United Kingdom\",\"United States\",\"United States\",\"Uruguay\",\"Uruguay\",\"Uzbekistan\",\"Uzbekistan\",\"Venezuela\",\"Venezuela\",\"Vietnam\",\"Vietnam\",\"Yemen\",\"Yemen\",\"Zambia\",\"Zambia\",\"Zimbabwe\",\"Zimbabwe\"],\"name\":\"\",\"z\":[3.203,3.632,4.719,4.586,5.211,5.295,3.795,6.086,6.388,4.559,4.321,7.228,7.272,7.246,7.139,5.208,5.201,6.199,6.105,4.456,4.5,5.323,5.483,6.923,6.927,5.956,4.883,4.141,5.082,5.082,5.779,5.752,5.386,5.129,3.488,3.59,6.3,6.419,5.011,4.933,4.587,4.424,3.775,2.905,4.7,4.433,5.044,4.975,7.278,7.328,3.083,3.083,4.35,4.301,6.444,6.476,5.191,5.246,6.125,6.26,3.973,4.812,4.559,4.418,4.245,7.167,7.072,5.432,5.321,6.046,5.762,6.852,6.711,7.6,7.555,5.425,5.302,6.028,5.973,4.166,4.419,6.253,6.167,5.893,5.739,4.286,4.35,7.769,7.632,6.592,6.489,4.799,4.758,4.516,4.519,4.34,6.985,6.965,4.996,4.657,5.287,5.358,6.436,6.382,4.534,3.964,3.597,3.582,5.86,5.504,5.43,5.43,5.758,5.62,7.494,7.495,4.015,4.19,5.192,5.093,4.548,4.707,4.437,4.456,7.021,6.977,7.139,6.814,6.223,6.0,4.944,4.671,5.89,5.89,5.886,5.915,4.906,5.161,5.809,5.79,4.509,4.41,6.1,5.662,6.021,6.083,5.261,5.131,4.796,4.623,5.94,5.933,5.197,5.358,3.802,3.808,3.975,3.495,5.525,5.566,6.149,5.952,7.09,6.91,5.185,3.933,3.774,3.41,3.587,5.339,6.322,4.39,4.447,6.726,6.627,4.49,4.356,5.888,5.891,6.595,6.488,5.529,5.64,5.285,5.125,5.523,5.347,5.208,5.254,4.466,4.417,4.36,4.308,4.639,4.441,4.913,4.88,7.488,7.441,7.307,7.324,6.105,6.141,4.628,4.166,5.265,5.155,5.274,5.718,5.835,7.554,7.594,5.653,5.472,4.696,4.743,6.321,6.43,5.743,5.681,5.697,5.663,5.631,5.524,6.182,6.123,5.693,5.41,6.374,6.374,6.07,5.945,5.648,5.81,3.334,3.408,6.375,6.371,4.681,4.631,5.603,5.398,4.374,4.571,6.262,6.343,6.198,6.173,6.118,5.948,4.668,4.982,4.722,4.724,5.895,5.875,2.853,3.254,6.354,6.31,4.366,4.471,4.139,4.212,7.343,7.314,7.48,7.487,3.462,3.462,6.446,6.441,5.467,5.199,3.231,3.303,6.008,6.072,4.085,3.999,6.192,6.192,4.461,4.592,5.373,5.483,5.247,5.636,4.189,4.161,4.332,4.103,6.825,6.774,7.054,7.19,6.892,6.886,6.293,6.379,6.174,6.096,4.707,4.806,5.175,5.103,3.38,3.355,4.107,4.377,3.663,3.692],\"type\":\"choropleth\"}],                        {\"template\":{\"data\":{\"histogram2dcontour\":[{\"type\":\"histogram2dcontour\",\"colorbar\":{\"outlinewidth\":0,\"ticks\":\"\"},\"colorscale\":[[0.0,\"#0d0887\"],[0.1111111111111111,\"#46039f\"],[0.2222222222222222,\"#7201a8\"],[0.3333333333333333,\"#9c179e\"],[0.4444444444444444,\"#bd3786\"],[0.5555555555555556,\"#d8576b\"],[0.6666666666666666,\"#ed7953\"],[0.7777777777777778,\"#fb9f3a\"],[0.8888888888888888,\"#fdca26\"],[1.0,\"#f0f921\"]]}],\"choropleth\":[{\"type\":\"choropleth\",\"colorbar\":{\"outlinewidth\":0,\"ticks\":\"\"}}],\"histogram2d\":[{\"type\":\"histogram2d\",\"colorbar\":{\"outlinewidth\":0,\"ticks\":\"\"},\"colorscale\":[[0.0,\"#0d0887\"],[0.1111111111111111,\"#46039f\"],[0.2222222222222222,\"#7201a8\"],[0.3333333333333333,\"#9c179e\"],[0.4444444444444444,\"#bd3786\"],[0.5555555555555556,\"#d8576b\"],[0.6666666666666666,\"#ed7953\"],[0.7777777777777778,\"#fb9f3a\"],[0.8888888888888888,\"#fdca26\"],[1.0,\"#f0f921\"]]}],\"heatmap\":[{\"type\":\"heatmap\",\"colorbar\":{\"outlinewidth\":0,\"ticks\":\"\"},\"colorscale\":[[0.0,\"#0d0887\"],[0.1111111111111111,\"#46039f\"],[0.2222222222222222,\"#7201a8\"],[0.3333333333333333,\"#9c179e\"],[0.4444444444444444,\"#bd3786\"],[0.5555555555555556,\"#d8576b\"],[0.6666666666666666,\"#ed7953\"],[0.7777777777777778,\"#fb9f3a\"],[0.8888888888888888,\"#fdca26\"],[1.0,\"#f0f921\"]]}],\"heatmapgl\":[{\"type\":\"heatmapgl\",\"colorbar\":{\"outlinewidth\":0,\"ticks\":\"\"},\"colorscale\":[[0.0,\"#0d0887\"],[0.1111111111111111,\"#46039f\"],[0.2222222222222222,\"#7201a8\"],[0.3333333333333333,\"#9c179e\"],[0.4444444444444444,\"#bd3786\"],[0.5555555555555556,\"#d8576b\"],[0.6666666666666666,\"#ed7953\"],[0.7777777777777778,\"#fb9f3a\"],[0.8888888888888888,\"#fdca26\"],[1.0,\"#f0f921\"]]}],\"contourcarpet\":[{\"type\":\"contourcarpet\",\"colorbar\":{\"outlinewidth\":0,\"ticks\":\"\"}}],\"contour\":[{\"type\":\"contour\",\"colorbar\":{\"outlinewidth\":0,\"ticks\":\"\"},\"colorscale\":[[0.0,\"#0d0887\"],[0.1111111111111111,\"#46039f\"],[0.2222222222222222,\"#7201a8\"],[0.3333333333333333,\"#9c179e\"],[0.4444444444444444,\"#bd3786\"],[0.5555555555555556,\"#d8576b\"],[0.6666666666666666,\"#ed7953\"],[0.7777777777777778,\"#fb9f3a\"],[0.8888888888888888,\"#fdca26\"],[1.0,\"#f0f921\"]]}],\"surface\":[{\"type\":\"surface\",\"colorbar\":{\"outlinewidth\":0,\"ticks\":\"\"},\"colorscale\":[[0.0,\"#0d0887\"],[0.1111111111111111,\"#46039f\"],[0.2222222222222222,\"#7201a8\"],[0.3333333333333333,\"#9c179e\"],[0.4444444444444444,\"#bd3786\"],[0.5555555555555556,\"#d8576b\"],[0.6666666666666666,\"#ed7953\"],[0.7777777777777778,\"#fb9f3a\"],[0.8888888888888888,\"#fdca26\"],[1.0,\"#f0f921\"]]}],\"mesh3d\":[{\"type\":\"mesh3d\",\"colorbar\":{\"outlinewidth\":0,\"ticks\":\"\"}}],\"scatter\":[{\"fillpattern\":{\"fillmode\":\"overlay\",\"size\":10,\"solidity\":0.2},\"type\":\"scatter\"}],\"parcoords\":[{\"type\":\"parcoords\",\"line\":{\"colorbar\":{\"outlinewidth\":0,\"ticks\":\"\"}}}],\"scatterpolargl\":[{\"type\":\"scatterpolargl\",\"marker\":{\"colorbar\":{\"outlinewidth\":0,\"ticks\":\"\"}}}],\"bar\":[{\"error_x\":{\"color\":\"#2a3f5f\"},\"error_y\":{\"color\":\"#2a3f5f\"},\"marker\":{\"line\":{\"color\":\"#E5ECF6\",\"width\":0.5},\"pattern\":{\"fillmode\":\"overlay\",\"size\":10,\"solidity\":0.2}},\"type\":\"bar\"}],\"scattergeo\":[{\"type\":\"scattergeo\",\"marker\":{\"colorbar\":{\"outlinewidth\":0,\"ticks\":\"\"}}}],\"scatterpolar\":[{\"type\":\"scatterpolar\",\"marker\":{\"colorbar\":{\"outlinewidth\":0,\"ticks\":\"\"}}}],\"histogram\":[{\"marker\":{\"pattern\":{\"fillmode\":\"overlay\",\"size\":10,\"solidity\":0.2}},\"type\":\"histogram\"}],\"scattergl\":[{\"type\":\"scattergl\",\"marker\":{\"colorbar\":{\"outlinewidth\":0,\"ticks\":\"\"}}}],\"scatter3d\":[{\"type\":\"scatter3d\",\"line\":{\"colorbar\":{\"outlinewidth\":0,\"ticks\":\"\"}},\"marker\":{\"colorbar\":{\"outlinewidth\":0,\"ticks\":\"\"}}}],\"scattermapbox\":[{\"type\":\"scattermapbox\",\"marker\":{\"colorbar\":{\"outlinewidth\":0,\"ticks\":\"\"}}}],\"scatterternary\":[{\"type\":\"scatterternary\",\"marker\":{\"colorbar\":{\"outlinewidth\":0,\"ticks\":\"\"}}}],\"scattercarpet\":[{\"type\":\"scattercarpet\",\"marker\":{\"colorbar\":{\"outlinewidth\":0,\"ticks\":\"\"}}}],\"carpet\":[{\"aaxis\":{\"endlinecolor\":\"#2a3f5f\",\"gridcolor\":\"white\",\"linecolor\":\"white\",\"minorgridcolor\":\"white\",\"startlinecolor\":\"#2a3f5f\"},\"baxis\":{\"endlinecolor\":\"#2a3f5f\",\"gridcolor\":\"white\",\"linecolor\":\"white\",\"minorgridcolor\":\"white\",\"startlinecolor\":\"#2a3f5f\"},\"type\":\"carpet\"}],\"table\":[{\"cells\":{\"fill\":{\"color\":\"#EBF0F8\"},\"line\":{\"color\":\"white\"}},\"header\":{\"fill\":{\"color\":\"#C8D4E3\"},\"line\":{\"color\":\"white\"}},\"type\":\"table\"}],\"barpolar\":[{\"marker\":{\"line\":{\"color\":\"#E5ECF6\",\"width\":0.5},\"pattern\":{\"fillmode\":\"overlay\",\"size\":10,\"solidity\":0.2}},\"type\":\"barpolar\"}],\"pie\":[{\"automargin\":true,\"type\":\"pie\"}]},\"layout\":{\"autotypenumbers\":\"strict\",\"colorway\":[\"#636efa\",\"#EF553B\",\"#00cc96\",\"#ab63fa\",\"#FFA15A\",\"#19d3f3\",\"#FF6692\",\"#B6E880\",\"#FF97FF\",\"#FECB52\"],\"font\":{\"color\":\"#2a3f5f\"},\"hovermode\":\"closest\",\"hoverlabel\":{\"align\":\"left\"},\"paper_bgcolor\":\"white\",\"plot_bgcolor\":\"#E5ECF6\",\"polar\":{\"bgcolor\":\"#E5ECF6\",\"angularaxis\":{\"gridcolor\":\"white\",\"linecolor\":\"white\",\"ticks\":\"\"},\"radialaxis\":{\"gridcolor\":\"white\",\"linecolor\":\"white\",\"ticks\":\"\"}},\"ternary\":{\"bgcolor\":\"#E5ECF6\",\"aaxis\":{\"gridcolor\":\"white\",\"linecolor\":\"white\",\"ticks\":\"\"},\"baxis\":{\"gridcolor\":\"white\",\"linecolor\":\"white\",\"ticks\":\"\"},\"caxis\":{\"gridcolor\":\"white\",\"linecolor\":\"white\",\"ticks\":\"\"}},\"coloraxis\":{\"colorbar\":{\"outlinewidth\":0,\"ticks\":\"\"}},\"colorscale\":{\"sequential\":[[0.0,\"#0d0887\"],[0.1111111111111111,\"#46039f\"],[0.2222222222222222,\"#7201a8\"],[0.3333333333333333,\"#9c179e\"],[0.4444444444444444,\"#bd3786\"],[0.5555555555555556,\"#d8576b\"],[0.6666666666666666,\"#ed7953\"],[0.7777777777777778,\"#fb9f3a\"],[0.8888888888888888,\"#fdca26\"],[1.0,\"#f0f921\"]],\"sequentialminus\":[[0.0,\"#0d0887\"],[0.1111111111111111,\"#46039f\"],[0.2222222222222222,\"#7201a8\"],[0.3333333333333333,\"#9c179e\"],[0.4444444444444444,\"#bd3786\"],[0.5555555555555556,\"#d8576b\"],[0.6666666666666666,\"#ed7953\"],[0.7777777777777778,\"#fb9f3a\"],[0.8888888888888888,\"#fdca26\"],[1.0,\"#f0f921\"]],\"diverging\":[[0,\"#8e0152\"],[0.1,\"#c51b7d\"],[0.2,\"#de77ae\"],[0.3,\"#f1b6da\"],[0.4,\"#fde0ef\"],[0.5,\"#f7f7f7\"],[0.6,\"#e6f5d0\"],[0.7,\"#b8e186\"],[0.8,\"#7fbc41\"],[0.9,\"#4d9221\"],[1,\"#276419\"]]},\"xaxis\":{\"gridcolor\":\"white\",\"linecolor\":\"white\",\"ticks\":\"\",\"title\":{\"standoff\":15},\"zerolinecolor\":\"white\",\"automargin\":true,\"zerolinewidth\":2},\"yaxis\":{\"gridcolor\":\"white\",\"linecolor\":\"white\",\"ticks\":\"\",\"title\":{\"standoff\":15},\"zerolinecolor\":\"white\",\"automargin\":true,\"zerolinewidth\":2},\"scene\":{\"xaxis\":{\"backgroundcolor\":\"#E5ECF6\",\"gridcolor\":\"white\",\"linecolor\":\"white\",\"showbackground\":true,\"ticks\":\"\",\"zerolinecolor\":\"white\",\"gridwidth\":2},\"yaxis\":{\"backgroundcolor\":\"#E5ECF6\",\"gridcolor\":\"white\",\"linecolor\":\"white\",\"showbackground\":true,\"ticks\":\"\",\"zerolinecolor\":\"white\",\"gridwidth\":2},\"zaxis\":{\"backgroundcolor\":\"#E5ECF6\",\"gridcolor\":\"white\",\"linecolor\":\"white\",\"showbackground\":true,\"ticks\":\"\",\"zerolinecolor\":\"white\",\"gridwidth\":2}},\"shapedefaults\":{\"line\":{\"color\":\"#2a3f5f\"}},\"annotationdefaults\":{\"arrowcolor\":\"#2a3f5f\",\"arrowhead\":0,\"arrowwidth\":1},\"geo\":{\"bgcolor\":\"white\",\"landcolor\":\"#E5ECF6\",\"subunitcolor\":\"white\",\"showland\":true,\"showlakes\":true,\"lakecolor\":\"white\"},\"title\":{\"x\":0.05},\"mapbox\":{\"style\":\"light\"}}},\"geo\":{\"domain\":{\"x\":[0.0,1.0],\"y\":[0.0,1.0]},\"center\":{}},\"coloraxis\":{\"colorbar\":{\"title\":{\"text\":\"Score\"}},\"colorscale\":[[0.0,\"rgb(247,252,245)\"],[0.125,\"rgb(229,245,224)\"],[0.25,\"rgb(199,233,192)\"],[0.375,\"rgb(161,217,155)\"],[0.5,\"rgb(116,196,118)\"],[0.625,\"rgb(65,171,93)\"],[0.75,\"rgb(35,139,69)\"],[0.875,\"rgb(0,109,44)\"],[1.0,\"rgb(0,68,27)\"]],\"cmin\":2.853,\"cmax\":7.769},\"legend\":{\"tracegroupgap\":0},\"margin\":{\"t\":60},\"title\":{\"text\":\"Happiness index by region/country\",\"x\":0.5,\"xanchor\":\"center\"}},                        {\"responsive\": true}                    ).then(function(){\n                            \nvar gd = document.getElementById('bd7e34ad-0142-4dc2-a4c1-e2bbd034da4c');\nvar x = new MutationObserver(function (mutations, observer) {{\n        var display = window.getComputedStyle(gd).display;\n        if (!display || display === 'none') {{\n            console.log([gd, 'removed!']);\n            Plotly.purge(gd);\n            observer.disconnect();\n        }}\n}});\n\n// Listen for the removal of the full notebook cells\nvar notebookContainer = gd.closest('#notebook-container');\nif (notebookContainer) {{\n    x.observe(notebookContainer, {childList: true});\n}}\n\n// Listen for the clearing of the current output cell\nvar outputEl = gd.closest('.output');\nif (outputEl) {{\n    x.observe(outputEl, {childList: true});\n}}\n\n                        })                };                });            </script>        </div>"
     },
     "metadata": {},
     "output_type": "display_data"
    }
   ],
   "source": [
    "fig = px.choropleth(data3, locations='Country or region', locationmode='country names', color='Score',\n",
    "                    color_continuous_scale='greens',\n",
    "                    range_color=(data3['Score'].min(), data3['Score'].max()))\n",
    "fig.update_layout(title={\n",
    "    'x':0.5,    'text': 'Happiness index by region/country','xanchor': 'center'})\n",
    "fig.show()\n"
   ],
   "metadata": {
    "collapsed": false
   }
  },
  {
   "cell_type": "code",
   "execution_count": 73,
   "outputs": [
    {
     "ename": "ValueError",
     "evalue": "\nImage export using the \"kaleido\" engine requires the kaleido package,\nwhich can be installed using pip:\n    $ pip install -U kaleido\n",
     "output_type": "error",
     "traceback": [
      "\u001B[1;31m---------------------------------------------------------------------------\u001B[0m",
      "\u001B[1;31mValueError\u001B[0m                                Traceback (most recent call last)",
      "\u001B[1;32m~\\AppData\\Local\\Temp\\ipykernel_12864\\363155613.py\u001B[0m in \u001B[0;36m<module>\u001B[1;34m\u001B[0m\n\u001B[0;32m     10\u001B[0m \u001B[1;33m\u001B[0m\u001B[0m\n\u001B[0;32m     11\u001B[0m \u001B[1;31m# Speichern des Diagramms als Bild\u001B[0m\u001B[1;33m\u001B[0m\u001B[1;33m\u001B[0m\u001B[0m\n\u001B[1;32m---> 12\u001B[1;33m \u001B[0mpio\u001B[0m\u001B[1;33m.\u001B[0m\u001B[0mwrite_image\u001B[0m\u001B[1;33m(\u001B[0m\u001B[0mfig\u001B[0m\u001B[1;33m,\u001B[0m \u001B[1;34m'happiness_map.png'\u001B[0m\u001B[1;33m)\u001B[0m\u001B[1;33m\u001B[0m\u001B[1;33m\u001B[0m\u001B[0m\n\u001B[0m",
      "\u001B[1;32m~\\anaconda3\\lib\\site-packages\\plotly\\io\\_kaleido.py\u001B[0m in \u001B[0;36mwrite_image\u001B[1;34m(fig, file, format, scale, width, height, validate, engine)\u001B[0m\n\u001B[0;32m    265\u001B[0m     \u001B[1;31m# -------------\u001B[0m\u001B[1;33m\u001B[0m\u001B[1;33m\u001B[0m\u001B[0m\n\u001B[0;32m    266\u001B[0m     \u001B[1;31m# Do this first so we don't create a file if image conversion fails\u001B[0m\u001B[1;33m\u001B[0m\u001B[1;33m\u001B[0m\u001B[0m\n\u001B[1;32m--> 267\u001B[1;33m     img_data = to_image(\n\u001B[0m\u001B[0;32m    268\u001B[0m         \u001B[0mfig\u001B[0m\u001B[1;33m,\u001B[0m\u001B[1;33m\u001B[0m\u001B[1;33m\u001B[0m\u001B[0m\n\u001B[0;32m    269\u001B[0m         \u001B[0mformat\u001B[0m\u001B[1;33m=\u001B[0m\u001B[0mformat\u001B[0m\u001B[1;33m,\u001B[0m\u001B[1;33m\u001B[0m\u001B[1;33m\u001B[0m\u001B[0m\n",
      "\u001B[1;32m~\\anaconda3\\lib\\site-packages\\plotly\\io\\_kaleido.py\u001B[0m in \u001B[0;36mto_image\u001B[1;34m(fig, format, width, height, scale, validate, engine)\u001B[0m\n\u001B[0;32m    131\u001B[0m     \u001B[1;31m# Raise informative error message if Kaleido is not installed\u001B[0m\u001B[1;33m\u001B[0m\u001B[1;33m\u001B[0m\u001B[0m\n\u001B[0;32m    132\u001B[0m     \u001B[1;32mif\u001B[0m \u001B[0mscope\u001B[0m \u001B[1;32mis\u001B[0m \u001B[1;32mNone\u001B[0m\u001B[1;33m:\u001B[0m\u001B[1;33m\u001B[0m\u001B[1;33m\u001B[0m\u001B[0m\n\u001B[1;32m--> 133\u001B[1;33m         raise ValueError(\n\u001B[0m\u001B[0;32m    134\u001B[0m             \"\"\"\n\u001B[0;32m    135\u001B[0m \u001B[0mImage\u001B[0m \u001B[0mexport\u001B[0m \u001B[0musing\u001B[0m \u001B[0mthe\u001B[0m \u001B[1;34m\"kaleido\"\u001B[0m \u001B[0mengine\u001B[0m \u001B[0mrequires\u001B[0m \u001B[0mthe\u001B[0m \u001B[0mkaleido\u001B[0m \u001B[0mpackage\u001B[0m\u001B[1;33m,\u001B[0m\u001B[1;33m\u001B[0m\u001B[1;33m\u001B[0m\u001B[0m\n",
      "\u001B[1;31mValueError\u001B[0m: \nImage export using the \"kaleido\" engine requires the kaleido package,\nwhich can be installed using pip:\n    $ pip install -U kaleido\n"
     ]
    }
   ],
   "source": [
    "import plotly.io as pio\n",
    "\n",
    "fig = px.choropleth(data3, locations='Country or region', locationmode='country names', color='Score',\n",
    "                    color_continuous_scale='greens',\n",
    "                    range_color=(data3['Score'].min(), data3['Score'].max()))\n",
    "fig.update_layout(title={\n",
    "    'text': 'Happiness index by region/country',\n",
    "    'x':0.5,\n",
    "    'xanchor': 'center'})\n",
    "\n",
    "# Speichern des Diagramms als Bild\n",
    "pio.write_image(fig, 'happiness_map.png')"
   ],
   "metadata": {
    "collapsed": false
   }
  },
  {
   "cell_type": "code",
   "execution_count": 18,
   "outputs": [
    {
     "data": {
      "text/plain": "0.797977459029743"
     },
     "execution_count": 18,
     "metadata": {},
     "output_type": "execute_result"
    }
   ],
   "source": [
    "gdp_corr = data3['Score'].corr(data3['GDP per capita'])#Korrelationskoeffizient zwischen Glücklichkeitswert und BIP pro Kopf\n",
    "gdp_corr"
   ],
   "metadata": {
    "collapsed": false
   }
  },
  {
   "cell_type": "code",
   "execution_count": 47,
   "outputs": [
    {
     "data": {
      "text/plain": "    continent\n0        Asia\n1        Asia\n2      Europe\n3      Europe\n4      Africa\n..        ...\n307      Asia\n308    Africa\n309    Africa\n310    Africa\n311    Africa\n\n[312 rows x 1 columns]",
      "text/html": "<div>\n<style scoped>\n    .dataframe tbody tr th:only-of-type {\n        vertical-align: middle;\n    }\n\n    .dataframe tbody tr th {\n        vertical-align: top;\n    }\n\n    .dataframe thead th {\n        text-align: right;\n    }\n</style>\n<table border=\"1\" class=\"dataframe\">\n  <thead>\n    <tr style=\"text-align: right;\">\n      <th></th>\n      <th>continent</th>\n    </tr>\n  </thead>\n  <tbody>\n    <tr>\n      <th>0</th>\n      <td>Asia</td>\n    </tr>\n    <tr>\n      <th>1</th>\n      <td>Asia</td>\n    </tr>\n    <tr>\n      <th>2</th>\n      <td>Europe</td>\n    </tr>\n    <tr>\n      <th>3</th>\n      <td>Europe</td>\n    </tr>\n    <tr>\n      <th>4</th>\n      <td>Africa</td>\n    </tr>\n    <tr>\n      <th>...</th>\n      <td>...</td>\n    </tr>\n    <tr>\n      <th>307</th>\n      <td>Asia</td>\n    </tr>\n    <tr>\n      <th>308</th>\n      <td>Africa</td>\n    </tr>\n    <tr>\n      <th>309</th>\n      <td>Africa</td>\n    </tr>\n    <tr>\n      <th>310</th>\n      <td>Africa</td>\n    </tr>\n    <tr>\n      <th>311</th>\n      <td>Africa</td>\n    </tr>\n  </tbody>\n</table>\n<p>312 rows × 1 columns</p>\n</div>"
     },
     "execution_count": 47,
     "metadata": {},
     "output_type": "execute_result"
    }
   ],
   "source": [
    "data3.loc[:, [\"continent\"]]"
   ],
   "metadata": {
    "collapsed": false
   }
  },
  {
   "cell_type": "code",
   "execution_count": 50,
   "outputs": [
    {
     "data": {
      "text/plain": "     Overall rank        Country or region  Year  Score  GDP per capita   \n156           141                  Liberia  2019  3.975           0.073  \\\n178            55                Mauritius  2018  5.891           1.090   \n177            57                Mauritius  2019  5.888           1.120   \n176           126               Mauritania  2018  4.356           0.557   \n175           122               Mauritania  2019  4.490           0.570   \n..            ...                      ...   ...    ...             ...   \n143            66                   Kosovo  2018  5.662           0.855   \n214           110  Palestinian Territories  2019  4.696           0.657   \n215           104  Palestinian Territories  2018  4.743           0.642   \n280            39        Trinidad & Tobago  2019  6.192           1.231   \n281            38        Trinidad & Tobago  2018  6.192           1.223   \n\n     Social support  Healthy life expectancy  Freedom to make life choices   \n156           0.922                    0.443                         0.370  \\\n178           1.387                    0.684                         0.584   \n177           1.402                    0.798                         0.498   \n176           1.245                    0.292                         0.129   \n175           1.167                    0.489                         0.066   \n..              ...                      ...                           ...   \n143           1.230                    0.578                         0.448   \n214           1.247                    0.672                         0.225   \n215           1.217                    0.602                         0.266   \n280           1.477                    0.713                         0.489   \n281           1.492                    0.564                         0.575   \n\n     Generosity  Perceptions of corruption continent  \n156       0.233                      0.033    Africa  \n178       0.245                      0.050    Africa  \n177       0.215                      0.060    Africa  \n176       0.134                      0.093    Africa  \n175       0.106                      0.088    Africa  \n..          ...                        ...       ...  \n143       0.274                      0.023      None  \n214       0.103                      0.066      None  \n215       0.086                      0.076      None  \n280       0.185                      0.016      None  \n281       0.171                      0.019      None  \n\n[312 rows x 11 columns]",
      "text/html": "<div>\n<style scoped>\n    .dataframe tbody tr th:only-of-type {\n        vertical-align: middle;\n    }\n\n    .dataframe tbody tr th {\n        vertical-align: top;\n    }\n\n    .dataframe thead th {\n        text-align: right;\n    }\n</style>\n<table border=\"1\" class=\"dataframe\">\n  <thead>\n    <tr style=\"text-align: right;\">\n      <th></th>\n      <th>Overall rank</th>\n      <th>Country or region</th>\n      <th>Year</th>\n      <th>Score</th>\n      <th>GDP per capita</th>\n      <th>Social support</th>\n      <th>Healthy life expectancy</th>\n      <th>Freedom to make life choices</th>\n      <th>Generosity</th>\n      <th>Perceptions of corruption</th>\n      <th>continent</th>\n    </tr>\n  </thead>\n  <tbody>\n    <tr>\n      <th>156</th>\n      <td>141</td>\n      <td>Liberia</td>\n      <td>2019</td>\n      <td>3.975</td>\n      <td>0.073</td>\n      <td>0.922</td>\n      <td>0.443</td>\n      <td>0.370</td>\n      <td>0.233</td>\n      <td>0.033</td>\n      <td>Africa</td>\n    </tr>\n    <tr>\n      <th>178</th>\n      <td>55</td>\n      <td>Mauritius</td>\n      <td>2018</td>\n      <td>5.891</td>\n      <td>1.090</td>\n      <td>1.387</td>\n      <td>0.684</td>\n      <td>0.584</td>\n      <td>0.245</td>\n      <td>0.050</td>\n      <td>Africa</td>\n    </tr>\n    <tr>\n      <th>177</th>\n      <td>57</td>\n      <td>Mauritius</td>\n      <td>2019</td>\n      <td>5.888</td>\n      <td>1.120</td>\n      <td>1.402</td>\n      <td>0.798</td>\n      <td>0.498</td>\n      <td>0.215</td>\n      <td>0.060</td>\n      <td>Africa</td>\n    </tr>\n    <tr>\n      <th>176</th>\n      <td>126</td>\n      <td>Mauritania</td>\n      <td>2018</td>\n      <td>4.356</td>\n      <td>0.557</td>\n      <td>1.245</td>\n      <td>0.292</td>\n      <td>0.129</td>\n      <td>0.134</td>\n      <td>0.093</td>\n      <td>Africa</td>\n    </tr>\n    <tr>\n      <th>175</th>\n      <td>122</td>\n      <td>Mauritania</td>\n      <td>2019</td>\n      <td>4.490</td>\n      <td>0.570</td>\n      <td>1.167</td>\n      <td>0.489</td>\n      <td>0.066</td>\n      <td>0.106</td>\n      <td>0.088</td>\n      <td>Africa</td>\n    </tr>\n    <tr>\n      <th>...</th>\n      <td>...</td>\n      <td>...</td>\n      <td>...</td>\n      <td>...</td>\n      <td>...</td>\n      <td>...</td>\n      <td>...</td>\n      <td>...</td>\n      <td>...</td>\n      <td>...</td>\n      <td>...</td>\n    </tr>\n    <tr>\n      <th>143</th>\n      <td>66</td>\n      <td>Kosovo</td>\n      <td>2018</td>\n      <td>5.662</td>\n      <td>0.855</td>\n      <td>1.230</td>\n      <td>0.578</td>\n      <td>0.448</td>\n      <td>0.274</td>\n      <td>0.023</td>\n      <td>None</td>\n    </tr>\n    <tr>\n      <th>214</th>\n      <td>110</td>\n      <td>Palestinian Territories</td>\n      <td>2019</td>\n      <td>4.696</td>\n      <td>0.657</td>\n      <td>1.247</td>\n      <td>0.672</td>\n      <td>0.225</td>\n      <td>0.103</td>\n      <td>0.066</td>\n      <td>None</td>\n    </tr>\n    <tr>\n      <th>215</th>\n      <td>104</td>\n      <td>Palestinian Territories</td>\n      <td>2018</td>\n      <td>4.743</td>\n      <td>0.642</td>\n      <td>1.217</td>\n      <td>0.602</td>\n      <td>0.266</td>\n      <td>0.086</td>\n      <td>0.076</td>\n      <td>None</td>\n    </tr>\n    <tr>\n      <th>280</th>\n      <td>39</td>\n      <td>Trinidad &amp; Tobago</td>\n      <td>2019</td>\n      <td>6.192</td>\n      <td>1.231</td>\n      <td>1.477</td>\n      <td>0.713</td>\n      <td>0.489</td>\n      <td>0.185</td>\n      <td>0.016</td>\n      <td>None</td>\n    </tr>\n    <tr>\n      <th>281</th>\n      <td>38</td>\n      <td>Trinidad &amp; Tobago</td>\n      <td>2018</td>\n      <td>6.192</td>\n      <td>1.223</td>\n      <td>1.492</td>\n      <td>0.564</td>\n      <td>0.575</td>\n      <td>0.171</td>\n      <td>0.019</td>\n      <td>None</td>\n    </tr>\n  </tbody>\n</table>\n<p>312 rows × 11 columns</p>\n</div>"
     },
     "execution_count": 50,
     "metadata": {},
     "output_type": "execute_result"
    }
   ],
   "source": [
    "conti_data = data3.sort_values(by='continent')\n",
    "conti_data"
   ],
   "metadata": {
    "collapsed": false
   }
  },
  {
   "cell_type": "code",
   "execution_count": 66,
   "outputs": [
    {
     "data": {
      "text/plain": "<AxesSubplot: ylabel='Score'>"
     },
     "execution_count": 66,
     "metadata": {},
     "output_type": "execute_result"
    },
    {
     "data": {
      "text/plain": "<Figure size 640x480 with 1 Axes>",
      "image/png": "[encoded data removed]"
     },
     "metadata": {},
     "output_type": "display_data"
    }
   ],
   "source": [
    "sns.boxenplot(y=data_top10[\"Score\"])"
   ],
   "metadata": {
    "collapsed": false
   }
  },
  {
   "cell_type": "code",
   "execution_count": 72,
   "outputs": [
    {
     "name": "stdout",
     "output_type": "stream",
     "text": [
      "Requirement already satisfied: kaleido in c:\\users\\admin\\anaconda3\\lib\\site-packages (0.2.1)\n"
     ]
    }
   ],
   "source": [
    "$ pip install -U kaleido\n"
   ],
   "metadata": {
    "collapsed": false
   }
  },
  {
   "cell_type": "code",
   "execution_count": 75,
   "outputs": [
    {
     "name": "stdout",
     "output_type": "stream",
     "text": [
      "Collecting kaleido==0.1.*\n",
      "  Downloading kaleido-0.1.0.post1-py2.py3-none-win_amd64.whl (56.0 MB)\n",
      "     ---------------------------------------- 56.0/56.0 MB 6.1 MB/s eta 0:00:00\n",
      "Installing collected packages: kaleido\n",
      "  Attempting uninstall: kaleido\n",
      "    Found existing installation: kaleido 0.2.1\n",
      "    Uninstalling kaleido-0.2.1:\n",
      "      Successfully uninstalled kaleido-0.2.1\n",
      "Successfully installed kaleido-0.1.0.post1\n"
     ]
    }
   ],
   "source": [
    "!pip install --upgrade \"kaleido==0.1.*\""
   ],
   "metadata": {
    "collapsed": false
   }
  },
  {
   "cell_type": "code",
   "execution_count": null,
   "outputs": [],
   "source": [],
   "metadata": {
    "collapsed": false
   }
  },
  {
   "cell_type": "markdown",
   "source": [],
   "metadata": {
    "collapsed": false
   }
  }
 ],
 "metadata": {
  "kernelspec": {
   "display_name": "Python 3",
   "language": "python",
   "name": "python3"
  },
  "language_info": {
   "codemirror_mode": {
    "name": "ipython",
    "version": 2
   },
   "file_extension": ".py",
   "mimetype": "text/x-python",
   "name": "python",
   "nbconvert_exporter": "python",
   "pygments_lexer": "ipython2",
   "version": "2.7.6"
  }
 },
 "nbformat": 4,
 "nbformat_minor": 0
}
